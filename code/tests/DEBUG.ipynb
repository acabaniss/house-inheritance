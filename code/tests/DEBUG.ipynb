{
 "cells": [
  {
   "cell_type": "markdown",
   "metadata": {},
   "source": [
    "This notebook is to allow precision debugging by creating non-random worlds."
   ]
  },
  {
   "cell_type": "code",
   "execution_count": 1,
   "metadata": {},
   "outputs": [
    {
     "name": "stdout",
     "output_type": "stream",
     "text": [
      "Importing the households package\n",
      "Importing identity\n",
      "importing kinship\n",
      "importing residency\n",
      "importing behavior\n",
      "loading narrative\n",
      "Importing main.py\n",
      "importing inheritance\n",
      "importing locality\n",
      "importing fragmentation\n"
     ]
    }
   ],
   "source": [
    "import os\n",
    "os.chdir('..')\n",
    "from households import *\n",
    "import pandas\n",
    "import matplotlib.pyplot as plt"
   ]
  },
  {
   "cell_type": "code",
   "execution_count": 2,
   "metadata": {},
   "outputs": [],
   "source": [
    "mortality = AgeTable(ages=[0,54,100],sex1 = male, rates1 = [0,1], sex2 = female, rates2 = [0,1])\n",
    "eligibility = AgeTable(ages = [0,18,100], sex1 = female, rates1 = [0,1], sex2 = male, rates2 = [0,1])\n",
    "fertility = AgeTable(ages = [0,18,23,100], sex1 = female, rates1 = [0,1,0], sex2 = male, rates2 = [0,0,0])"
   ]
  },
  {
   "cell_type": "code",
   "execution_count": 3,
   "metadata": {},
   "outputs": [],
   "source": [
    "inherit_homestead = behavior.inheritance.InheritanceRuleComplex(has_property = behavior.inheritance.has_property_houses,\n",
    "                                                                    find_heirs = behavior.inheritance.find_heirs_children_oldest_to_youngest,\n",
    "                                                                    limit_heirs = behavior.inheritance.limit_heirs_none,\n",
    "                                                                    distribute_property = behavior.inheritance.distribute_property_to_first_heir_and_move_household,\n",
    "                                                                    failure = behavior.inheritance.failed_inheritance_no_owner)\n",
    "locality = lambda husband, wife: behavior.locality.neolocality(husband,wife,primary = female)\n",
    "fragmentation = lambda house: behavior.fragmentation.brother_loses_out(house,age=18)"
   ]
  },
  {
   "cell_type": "code",
   "execution_count": 4,
   "metadata": {},
   "outputs": [],
   "source": [
    "start_pop = 10\n",
    "start_area = 200\n",
    "start_age = 17\n",
    "\n",
    "rd.seed(1237) #Used here to standardize the example code across runs.\n",
    "sweetwater = Community(name = 'Sweetwater',\n",
    "                       pop = start_pop,\n",
    "                       area = start_area,\n",
    "                       startage = start_age,\n",
    "                       mortab = mortality,\n",
    "                       marrtab = eligibility,\n",
    "                       birthtab = fertility,\n",
    "                       locality = locality,\n",
    "                       inheritancerule = inherit_homestead,\n",
    "                       fragmentation = fragmentation)\n",
    "rd.seed(1237) #important to standardize after setup, just in case"
   ]
  },
  {
   "cell_type": "code",
   "execution_count": 5,
   "metadata": {},
   "outputs": [],
   "source": [
    "while sweetwater.year < 6:\n",
    "    sweetwater.progress()"
   ]
  },
  {
   "cell_type": "code",
   "execution_count": 9,
   "metadata": {},
   "outputs": [
    {
     "name": "stdout",
     "output_type": "stream",
     "text": [
      "This house contains a nuclear household with 6 people residing owned by Elsie:\n",
      "Lawrence is a living man, 23 years old, married with 4 children\n",
      "Elsie is a living woman, 23 years old, married with 4 children\n",
      "Peter is a living man, 4 years old, ineligible\n",
      "Armistice is a living woman, 3 years old, ineligible\n",
      "Theresa is a living woman, 2 years old, ineligible\n",
      "Jasmyn is a living woman, 1 year old, ineligible\n",
      " \n",
      "True\n",
      "True\n",
      "True\n",
      "True\n",
      "True\n",
      "True\n",
      "True\n",
      "True\n"
     ]
    }
   ],
   "source": [
    "h = [x for x in sweetwater.houses if len(x.people) >2][1] #\n",
    "print('This house contains ' + narrative.census(h)+':')\n",
    "for x in h.people:\n",
    "    print(narrative.biography(x)) \n",
    "print(' ')\n",
    "#some tests:\n",
    "print(kinship.get_parents(h.people[0]) == h.people[0].has_parents)\n",
    "print(kinship.get_spouse(h.people[0]) == h.people[0].has_spouse)\n",
    "print(kinship.get_children(h.people[0]) == h.people[0].has_children)\n",
    "print(kinship.get_parents(h.people[2]) == h.people[2].has_parents)\n",
    "print(kinship.get_spouse(h.people[2]) == h.people[2].has_spouse)\n",
    "print(kinship.get_children(h.people[2]) == h.people[2].has_children)\n",
    "print(kinship.get_siblings(h.people[2]) == h.people[3:])\n",
    "print(kinship.get_family(h.people[1]) == [h.people[1],h.people[0]]+h.people[2:])"
   ]
  },
  {
   "cell_type": "code",
   "execution_count": null,
   "metadata": {},
   "outputs": [],
   "source": []
  },
  {
   "cell_type": "code",
   "execution_count": null,
   "metadata": {},
   "outputs": [],
   "source": []
  }
 ],
 "metadata": {
  "kernelspec": {
   "display_name": "Python 3",
   "language": "python",
   "name": "python3"
  },
  "language_info": {
   "codemirror_mode": {
    "name": "ipython",
    "version": 3
   },
   "file_extension": ".py",
   "mimetype": "text/x-python",
   "name": "python",
   "nbconvert_exporter": "python",
   "pygments_lexer": "ipython3",
   "version": "3.7.7"
  }
 },
 "nbformat": 4,
 "nbformat_minor": 4
}
