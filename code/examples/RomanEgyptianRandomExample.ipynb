{
 "cells": [
  {
   "cell_type": "markdown",
   "metadata": {},
   "source": [
    "# Roman Egyptian parameters for demographic simulation #\n",
    "\n",
    "Using the households ABM, it is possible to simulate more specific socieites using detailed sociohistorical and demographic reconstructions. All citations from Bagnall and Frier unless otherwise specified.\n",
    "\n",
    "The villages have an average population between 1000 to 1500 people (range 100-4000), while the metropoleis have about 25,000 residents (55-56). A single nome seems to contain 40-60 villages and one metropolis on average. Metropoleis have substantially more nuclear and small families than the complex families of the villages (67, fig. 3.2.) Housing prices in metropoleis make larger families harder to maintain in metropoleis (70), and wealth is concentrated in those settlements (70 ftnt 65, ch 2 ftnt 58). \n",
    "\n",
    "There is no long-term population growth, with a growth rate around .1% annually (81) or .2% based on the estimates of female life expectancy (87). The female birth rate is 42-54 per thousand and the mortality rate West 2 (90), while the male mortality rate is probably Level 3 or Level 4, with level 3 more likely (108 ftnt 49). Fertility exists age 12 to 50, and women who live to age 15 give birth to an average of 5.979 children, with a sex ratio of 105 men to 100 women (139)\n",
    "\n",
    "\n",
    "### Calibration data\n",
    "\n",
    "167 census returns provide evidence for the Laslett typology classification of the house, while an additional 36 are uninhabited but taxable property (58). Solitary marriages are largely the survivors of families who didn't marry or outlived everyone else (60). Nuclear households are the plurality (61), favored by attrition rather than neolocality (61). (Note: they count families as nuclear even if one spouse dies!) (61). \n",
    "\n",
    "Table 3.1: 16.2, 4.8, 43.1, 15.0, 21.0 (overall averages)\n",
    "Table 3.2: Metropoleis: 16.7, 5.6, 51.4, 11.1, 15.3\n",
    "            Villages: 15.8, 4.2, 36.8, 17.9, 25.3\n",
    "Table 4.1: female age distribution (living)\n",
    "Table 5.x: male age distribution (living)\n",
    "\n"
   ]
  },
  {
   "cell_type": "markdown",
   "metadata": {},
   "source": [
    "We start by loading the households package:"
   ]
  },
  {
   "cell_type": "code",
   "execution_count": 1,
   "metadata": {},
   "outputs": [
    {
     "name": "stdout",
     "output_type": "stream",
     "text": [
      "Importing the households package\n",
      "Importing identity\n",
      "importing kinship\n",
      "importing residency\n",
      "importing behavior\n",
      "loading narrative\n",
      "Importing main.py\n",
      "importing inheritance\n",
      "importing marriage\n",
      "importing mobility\n"
     ]
    }
   ],
   "source": [
    "import os\n",
    "os.chdir('..')\n",
    "from households import *\n",
    "import pandas as pd\n",
    "import matplotlib.pyplot as plt\n",
    "import seaborn as sns\n",
    "import random as rd\n"
   ]
  },
  {
   "cell_type": "markdown",
   "metadata": {},
   "source": [
    "(You'll only ever need to run this next line if you've made changes to the code and are needing to reload the package.)"
   ]
  },
  {
   "cell_type": "code",
   "execution_count": 2,
   "metadata": {},
   "outputs": [],
   "source": [
    "#Bagnall and Frier estimates: note Male West 4 should really be West 3 based on their footnotes, even if the main\n",
    "## text argues for West 4.\n",
    "maledeath = pd.read_csv('../data/demo/West4Male.csv')\n",
    "ages = list(maledeath.Age1) + [list(maledeath.Age2)[-1]]\n",
    "malerates = list(maledeath[maledeath.columns[2]])\n",
    "femaledeath = pd.read_csv('../data/demo/West2Female.csv')\n",
    "femalerates = list(femaledeath[femaledeath.columns[2]])\n",
    "mortality = AgeTable(ages = ages, sex1 = identity.male, rates1 = malerates, sex2 = identity.female, rates2 = femalerates )"
   ]
  },
  {
   "cell_type": "code",
   "execution_count": 26,
   "metadata": {},
   "outputs": [],
   "source": [
    "#Bagnall and Frier, table 7.1, model reconstructed fertility rates\n",
    "fertility = AgeTable(ages = [0,12,15,20,25,30,35,40,49,100], sex1 = female, rates1 = [0,.0229,.1397,.2609,.2751,.2384,.1779,.0851,.01200], sex2 = male, rates2 = [0,0,0,0,0,0,0,0,0,0]) \n",
    "#marital fertility rate: 70 % of hutterite (144-145)\n",
    "hutterite = [0,.3,.55,.5020,.4470, .4060, .2220, .0610, 0]\n",
    "#hutteriteages = [0,12,15,20,25,30,35,40,49,100]\n",
    "#hutteriteannual = [1. - (1-.7*r)**(1./(hutteriteages[i+1]-hutteriteages[i])) for r, i in zip(hutterite,range(len(hutterite)))]\n",
    "maritalfertility = AgeTable(ages = [0,12,15,20,25,30,35,40,49,100], sex1 = female, rates1 = [.6*r for r in hutterite], sex2 = male, rates2 = [0,0,0,0,0,0,0,0,0,0]) \n",
    "#unmarriedfertility = AgeTable(ages = [0,12,15,20,25,30,35,40,49,100], sex1 = female, rates1 = [r*.175 for r in hutterite], sex2 = male, rates2 = [0,0,0,0,0,0,0,0,0,0]) "
   ]
  },
  {
   "cell_type": "code",
   "execution_count": null,
   "metadata": {},
   "outputs": [],
   "source": []
  },
  {
   "cell_type": "markdown",
   "metadata": {},
   "source": [
    "## Scheduling life events ##\n",
    "\n"
   ]
  },
  {
   "cell_type": "code",
   "execution_count": 27,
   "metadata": {},
   "outputs": [],
   "source": [
    "age_of_majority = 15\n",
    "eligibility = AgeTable(ages = [0,15,100], sex1 = female, rates1 = [0,.75], sex2 = male, rates2 = [0,.75])\n",
    "\n",
    "remarriage = AgeTable.NullAgeTable()\n"
   ]
  },
  {
   "cell_type": "markdown",
   "metadata": {},
   "source": [
    "\n",
    "The three rules that we have to define are, at present, a `MarriageRule`, a `MobilityRule`, and an `InheritanceRule`. We treat these each in turn.\n",
    "\n",
    "\n",
    "### `BirthRule`: \n",
    "\n",
    "\n",
    "\n",
    "### `MarriageRule`: \n",
    "\n",
    "\n",
    "\n",
    "### `MobilityRule`: \n",
    "\n",
    "\n",
    "\n",
    "### `InheritanceRule`: \n",
    "\n",
    "\n",
    "\n"
   ]
  },
  {
   "cell_type": "code",
   "execution_count": 28,
   "metadata": {},
   "outputs": [],
   "source": [
    "birthrule = behavior.conception.BirthRule(marriedbirth = maritalfertility,\n",
    "                                         unmarriedbirth = AgeTable.NullAgeTable(), #unmarriedfertility,\n",
    "                                         femalesexratio = .4878,\n",
    "                                         maternaldeath = behavior.conception.maternal_death_zero,\n",
    "                                         infanticide = behavior.conception.infanticide_none)\n",
    "\n",
    "#The MarriageRule\n",
    "marriagerule = behavior.marriage.MarriageRule(eligibility_agetable = eligibility, #defined above\n",
    "                                              get_eligible = behavior.marriage.get_eligible_not_sibling_same_community,\n",
    "                                              #find all single individuals in the village who aren't siblings\n",
    "                                              pick_spouse = behavior.marriage.pick_spouse_random, #pick a random spouse\n",
    "                                              locality = behavior.marriage.locality_patrilocality, #patrilocality\n",
    "                                              remarriage_agetable = remarriage #defined above\n",
    "                                             )\n",
    "\n",
    "#The MobilityRule\n",
    "def check_household_nonowner_adult_man_overcrowded(person):\n",
    "    \"\"\"Check that the household is overcrowded and that this person is not the owner and an adult.\"\"\"\n",
    "    overcrowded = behavior.mobility.check_household_overcrowded(person) #check overcrowding but also assert\n",
    "    ## that there is indeed a house to check\n",
    "    if overcrowded:\n",
    "        if person.age >= age_of_majority and person not in person.has_house.get_owners() and person.sex == identity.male:\n",
    "            #If above or at the age of majority and the person is a man who is not the owner of the house they live in\n",
    "            if rd.random() < .1: #make this process somewhat random\n",
    "                return True\n",
    "    return False\n",
    "\n",
    "mobilityrule = behavior.mobility.MobilityRule(check_household = check_household_nonowner_adult_man_overcrowded,\n",
    "                                                   who_leaves_house = behavior.mobility.who_leaves_house_family,\n",
    "                                                   destination = behavior.mobility.destination_random_house_same_village)\n",
    "\n",
    "#The InheritanceRule\n",
    "#Our custom function to check sons then brothers' sons;\n",
    "## note the use of lambda to make find_heirs_siblings_children into a single parameter function in order to define\n",
    "## the sex as male.\n",
    "find_heirs_sons_then_brothers_sons = behavior.inheritance.find_heirs_multiple_constructor(behavior.inheritance.find_heirs_sons_oldest_to_youngest,\n",
    "                                                     lambda p: behavior.inheritance.find_heirs_siblings_children_oldest_to_youngest(p,sex = identity.male))\n",
    "\n",
    "\n",
    "inheritancerule = behavior.inheritance.InheritanceRuleComplex(has_property = behavior.inheritance.has_property_houses,\n",
    "                                                                    find_heirs = find_heirs_sons_then_brothers_sons,\n",
    "                                                                    limit_heirs = behavior.inheritance.limit_heirs_not_owners,\n",
    "                                                                    distribute_property = behavior.inheritance.distribute_property_to_first_heir_and_move_household,\n",
    "                                                                    failure = behavior.inheritance.failed_inheritance_no_owner)\n",
    "\n"
   ]
  },
  {
   "cell_type": "markdown",
   "metadata": {},
   "source": [
    "With all of these functions defined, we can now create the `World` of the simulation and our sole `Community`, Sweetwater."
   ]
  },
  {
   "cell_type": "code",
   "execution_count": 29,
   "metadata": {},
   "outputs": [],
   "source": [
    "start_pop = 300 #just a few people to start\n",
    "start_area = 1000 #lots of room for growth\n",
    "start_age = age_of_majority - 1 #so that everyone makes the transition to marriage eligibility on time\n",
    "\n",
    "rd.seed(1237) #Used here to standardize the example code across runs for any random parts like name generation.\n",
    "terra = World()\n",
    "sweetwater = Community(world = terra,\n",
    "                       name = 'Sweetwater',\n",
    "                       pop = start_pop,\n",
    "                       area = start_area,\n",
    "                       startage = start_age,\n",
    "                       mortab = mortality,\n",
    "                       birthtab = fertility,\n",
    "                       marriagerule = marriagerule,\n",
    "                       inheritancerule = inheritancerule,\n",
    "                       mobilityrule = mobilityrule,\n",
    "                       birthrule = birthrule)\n",
    "\n",
    "\n",
    "rd.seed(123) #important to standardize after setup, just in case\n",
    "pophistory = []"
   ]
  },
  {
   "cell_type": "markdown",
   "metadata": {},
   "source": [
    "And there we have it! The hard work is setting up the functions; making the world and defining communities is easy. We can now run the simulation."
   ]
  },
  {
   "cell_type": "code",
   "execution_count": 30,
   "metadata": {},
   "outputs": [
    {
     "name": "stdout",
     "output_type": "stream",
     "text": [
      "150\n"
     ]
    }
   ],
   "source": [
    "while terra.year < 150: #run for 149 years\n",
    "    terra.progress()\n",
    "    pophistory.append(len(terra.people))\n",
    "    \n",
    "print(terra.year)"
   ]
  },
  {
   "cell_type": "code",
   "execution_count": 31,
   "metadata": {},
   "outputs": [
    {
     "data": {
      "text/plain": [
       "460"
      ]
     },
     "execution_count": 31,
     "metadata": {},
     "output_type": "execute_result"
    }
   ],
   "source": [
    "len(terra.people)"
   ]
  },
  {
   "cell_type": "markdown",
   "metadata": {},
   "source": [
    "We can now generate some figures to see what's been going on. For instance, let's see what birthyears are recorded in Diaries of individuals."
   ]
  },
  {
   "cell_type": "code",
   "execution_count": 32,
   "metadata": {},
   "outputs": [
    {
     "name": "stdout",
     "output_type": "stream",
     "text": [
      "\n"
     ]
    },
    {
     "data": {
      "image/png": "[encoded data removed]",
      "text/plain": [
       "<Figure size 864x288 with 3 Axes>"
      ]
     },
     "metadata": {
      "needs_background": "light"
     },
     "output_type": "display_data"
    }
   ],
   "source": [
    "f, (ax1, ax2, ax3) = plt.subplots(1,3, figsize = (12,4))\n",
    "#sns.set_style(\"whitegrid\")\n",
    "sns.distplot([min(d.get_events().keys()) for d in terra.library['Person']], kde = False, bins = range(terra.year), ax = ax1)\n",
    "ax1.set_title(\"Birth years of people\")\n",
    "#plt.subtitle(\"Third generation is normally distributed.\")\n",
    "ax1.set_xlabel(\"Year\")\n",
    "ax1.set_ylabel(\"# births per year\")\n",
    "\n",
    "sns.distplot([l.year for i in range(len(terra.library['Person'])) for x in terra.library['Person'][i].get_events().items() for l in x[1] if isinstance(l,narrative.MarriageEvent)]\n",
    "             , kde = False, bins = range(terra.year), ax = ax2)\n",
    "ax2.set_title(\"Marriages\")\n",
    "#ax2.subtitle(\"Third generation is normally distributed.\")\n",
    "ax2.set_xlabel(\"Year\")\n",
    "ax2.set_ylabel(\"# marriages per year\")\n",
    "\n",
    "sns.distplot([l.year for i in range(len(terra.library['Person'])) for x in terra.library['Person'][i].get_events().items() for l in x[1] if isinstance(l,narrative.DeathEvent)],\n",
    "             kde = False, bins = range(terra.year), ax = ax3)\n",
    "ax3.set_title(\"Deaths\")\n",
    "#ax2.subtitle(\"Third generation is normally distributed.\")\n",
    "ax3.set_xlabel(\"Year\")\n",
    "ax3.set_ylabel(\"# deaths per year\")\n",
    "\n",
    "\n",
    "print('')\n",
    "#plt.hist([min(d.get_events().keys()) for d in terra.library['Person']], bins = range(45))"
   ]
  },
  {
   "cell_type": "markdown",
   "metadata": {},
   "source": [
    "We can also look at the different ways people are living in houses, for example how many nuclear families live in each house."
   ]
  },
  {
   "cell_type": "code",
   "execution_count": 33,
   "metadata": {},
   "outputs": [
    {
     "name": "stdout",
     "output_type": "stream",
     "text": [
      "\n"
     ]
    },
    {
     "data": {
      "image/png": "[encoded data removed]",
      "text/plain": [
       "<Figure size 432x288 with 1 Axes>"
      ]
     },
     "metadata": {
      "needs_background": "light"
     },
     "output_type": "display_data"
    }
   ],
   "source": [
    "sns.countplot([residency.classify(h) for h in terra.houses if h.people != []], order = ['solitary','no-family','nuclear','extended','multiple'], palette = 'colorblind')\n",
    "plt.title('Lastlett Typology of Households for all Occupied Houses')\n",
    "plt.xlabel('Household type (number of nuclear families)')\n",
    "print('')"
   ]
  },
  {
   "cell_type": "code",
   "execution_count": 11,
   "metadata": {},
   "outputs": [
    {
     "data": {
      "text/plain": [
       "Text(0.5, 1.0, 'Population through time')"
      ]
     },
     "execution_count": 11,
     "metadata": {},
     "output_type": "execute_result"
    },
    {
     "data": {
      "image/png": "[encoded data removed]",
      "text/plain": [
       "<Figure size 432x288 with 1 Axes>"
      ]
     },
     "metadata": {
      "needs_background": "light"
     },
     "output_type": "display_data"
    }
   ],
   "source": [
    "sns.lineplot(range(terra.year),pophistory)\n",
    "plt.title('Population through time')"
   ]
  },
  {
   "cell_type": "markdown",
   "metadata": {},
   "source": [
    "In addition to viewing the entire world, we can also use the tools in narrative to explore single individuals and their households."
   ]
  },
  {
   "cell_type": "code",
   "execution_count": 12,
   "metadata": {
    "scrolled": true
   },
   "outputs": [],
   "source": [
    "#Run this first to pick a random house\n",
    "h = rd.choice([x for x in sweetwater.houses if len(x.people) >= 2])#pick a house with at least two people in it to make it interesting"
   ]
  },
  {
   "cell_type": "code",
   "execution_count": 13,
   "metadata": {},
   "outputs": [
    {
     "name": "stdout",
     "output_type": "stream",
     "text": [
      "The house at 61 Cactus Court contains a no-family household with 2 people residing owned by Hector (1.0 shares):\n",
      "Clementine is a living woman, 35 years old, widowed with 4 children\n",
      "Hector is a living man, 9 years old, ineligible\n",
      " \n"
     ]
    }
   ],
   "source": [
    "#Now run this to see the output\n",
    "print('The house at ' + h.address + ' contains ' + narrative.census(h)+':')\n",
    "for x in h.people:\n",
    "    print(narrative.biography(x)) \n",
    "print(' ')\n"
   ]
  },
  {
   "cell_type": "code",
   "execution_count": 14,
   "metadata": {},
   "outputs": [
    {
     "name": "stdout",
     "output_type": "stream",
     "text": [
      "65 Other Street: a multiple household with 8 people residing with no owner\n"
     ]
    },
    {
     "ename": "IndexError",
     "evalue": "list index out of range",
     "output_type": "error",
     "traceback": [
      "\u001b[1;31m---------------------------------------------------------------------------\u001b[0m",
      "\u001b[1;31mIndexError\u001b[0m                                Traceback (most recent call last)",
      "\u001b[1;32m<ipython-input-14-becff5c449b3>\u001b[0m in \u001b[0;36m<module>\u001b[1;34m\u001b[0m\n\u001b[0;32m      4\u001b[0m \u001b[0mi\u001b[0m \u001b[1;33m=\u001b[0m \u001b[1;36m0\u001b[0m\u001b[1;33m\u001b[0m\u001b[1;33m\u001b[0m\u001b[0m\n\u001b[0;32m      5\u001b[0m \u001b[0mprint\u001b[0m\u001b[1;33m(\u001b[0m\u001b[0mstrange\u001b[0m\u001b[1;33m[\u001b[0m\u001b[0mi\u001b[0m\u001b[1;33m]\u001b[0m\u001b[1;33m.\u001b[0m\u001b[0maddress\u001b[0m \u001b[1;33m+\u001b[0m \u001b[1;34m': '\u001b[0m \u001b[1;33m+\u001b[0m \u001b[0mnarrative\u001b[0m\u001b[1;33m.\u001b[0m\u001b[0mcensus\u001b[0m\u001b[1;33m(\u001b[0m \u001b[0mstrange\u001b[0m\u001b[1;33m[\u001b[0m\u001b[0mi\u001b[0m\u001b[1;33m]\u001b[0m\u001b[1;33m)\u001b[0m\u001b[1;33m)\u001b[0m\u001b[1;33m\u001b[0m\u001b[1;33m\u001b[0m\u001b[0m\n\u001b[1;32m----> 6\u001b[1;33m \u001b[0mo\u001b[0m \u001b[1;33m=\u001b[0m \u001b[0mstrange\u001b[0m\u001b[1;33m[\u001b[0m\u001b[0mi\u001b[0m\u001b[1;33m]\u001b[0m\u001b[1;33m.\u001b[0m\u001b[0mget_owners\u001b[0m\u001b[1;33m(\u001b[0m\u001b[1;33m)\u001b[0m\u001b[1;33m[\u001b[0m\u001b[1;36m0\u001b[0m\u001b[1;33m]\u001b[0m\u001b[1;33m\u001b[0m\u001b[1;33m\u001b[0m\u001b[0m\n\u001b[0m\u001b[0;32m      7\u001b[0m \u001b[0mprint\u001b[0m\u001b[1;33m(\u001b[0m\u001b[0mnarrative\u001b[0m\u001b[1;33m.\u001b[0m\u001b[0mbiography\u001b[0m\u001b[1;33m(\u001b[0m\u001b[0mo\u001b[0m\u001b[1;33m)\u001b[0m\u001b[1;33m)\u001b[0m\u001b[1;33m\u001b[0m\u001b[1;33m\u001b[0m\u001b[0m\n\u001b[0;32m      8\u001b[0m \u001b[1;31m#who lives there?\u001b[0m\u001b[1;33m\u001b[0m\u001b[1;33m\u001b[0m\u001b[1;33m\u001b[0m\u001b[0m\n",
      "\u001b[1;31mIndexError\u001b[0m: list index out of range"
     ]
    }
   ],
   "source": [
    "#Here is some space to explore the currently selected household, if you want.\n",
    "\n",
    "strange = [h for h in terra.houses if len([p for p in h.people if p in h.get_owners()]) == 0 and len(h.people) > 0]\n",
    "i = 0\n",
    "print(strange[i].address + ': ' + narrative.census( strange[i]))\n",
    "o = strange[i].get_owners()[0]\n",
    "print(narrative.biography(o))\n",
    "#who lives there?\n",
    "for p in strange[i].people:\n",
    "    print(narrative.biography(p))\n",
    "    print(p in kinship.get_siblings(o))\n",
    "    print(p in kinship.get_children(o))\n"
   ]
  },
  {
   "cell_type": "code",
   "execution_count": null,
   "metadata": {},
   "outputs": [],
   "source": [
    "f = [p for p in kinship.get_parents(o) if p.sex == identity.male][0]\n",
    "\n",
    "print([e.summary() for l in o.diary.get_events().items() for e in l[1] if e.house is not None]) # \n"
   ]
  },
  {
   "cell_type": "markdown",
   "metadata": {},
   "source": [
    "This provides the tools you need to implement and see some results of a simulation. \n",
    "\n",
    "The sections below provide some debugging tools."
   ]
  },
  {
   "cell_type": "code",
   "execution_count": null,
   "metadata": {},
   "outputs": [],
   "source": [
    "#Look up a single person based on memory\n",
    "p = [p for p in sweetwater.people if str(p) == '<households.main.Person object at 0x00000244063379C8>'][0]\n",
    "#behavior.mobility.check_household_overcrowded(p)\n",
    "#behavior.mobility.destination_random_house_same_village(None, [p])\n",
    "narrative.biography(p)\n",
    "narrative.census(p.has_house)\n",
    "for q in kinship.get_parents(p):\n",
    "    print(narrative.biography(q))\n",
    "    if q.has_house != None: print(narrative.census(q.has_house))"
   ]
  },
  {
   "cell_type": "markdown",
   "metadata": {},
   "source": [
    "Let's simulate multiple seeds to check settings:"
   ]
  },
  {
   "cell_type": "code",
   "execution_count": null,
   "metadata": {},
   "outputs": [],
   "source": [
    "start_pop = 300 #just a few people to start\n",
    "start_area = 1000 #lots of room for growth\n",
    "start_age = age_of_majority - 1 #so that everyone makes the transition to marriage eligibility on time\n",
    "\n",
    "rd.seed(505)\n",
    "seeds = [rd.randint(1,10000) for i in range(10)]\n",
    "pophistories = []\n",
    "years = 100\n",
    "\n",
    "for seed in seeds:\n",
    "    print('seed ' + str(seed) + ' started')\n",
    "    rd.seed(seed) #Used here to standardize the example code across runs for any random parts like name generation.\n",
    "    terra = World()\n",
    "    sweetwater = Community(world = terra,\n",
    "                           name = 'Sweetwater',\n",
    "                           pop = start_pop,\n",
    "                           area = start_area,\n",
    "                           startage = start_age,\n",
    "                           mortab = mortality,\n",
    "                           birthtab = fertility,\n",
    "                           marriagerule = marriagerule,\n",
    "                           inheritancerule = inheritancerule,\n",
    "                           mobilityrule = mobilityrule,\n",
    "                           birthrule = birthrule)\n",
    "\n",
    "\n",
    "     #important to standardize after setup, just in case\n",
    "    pophistory = []\n",
    "    while terra.year < years: \n",
    "        terra.progress()\n",
    "        pophistory.append(len(terra.people))\n",
    "    pophistories.append(pophistory)\n",
    "    print('seed ' + str(seed) + ' completed')"
   ]
  },
  {
   "cell_type": "code",
   "execution_count": null,
   "metadata": {},
   "outputs": [],
   "source": [
    "for p in pophistories:\n",
    "    sns.lineplot(range(terra.year),p)\n",
    "plt.title('Population through time for different seeds')"
   ]
  },
  {
   "cell_type": "code",
   "execution_count": null,
   "metadata": {},
   "outputs": [],
   "source": []
  }
 ],
 "metadata": {
  "kernelspec": {
   "display_name": "Python 3",
   "language": "python",
   "name": "python3"
  },
  "language_info": {
   "codemirror_mode": {
    "name": "ipython",
    "version": 3
   },
   "file_extension": ".py",
   "mimetype": "text/x-python",
   "name": "python",
   "nbconvert_exporter": "python",
   "pygments_lexer": "ipython3",
   "version": "3.7.7"
  }
 },
 "nbformat": 4,
 "nbformat_minor": 4
}
