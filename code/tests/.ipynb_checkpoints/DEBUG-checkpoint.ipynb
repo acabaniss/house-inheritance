{
 "cells": [
  {
   "cell_type": "markdown",
   "metadata": {},
   "source": [
    "This notebook is to allow precision debugging by creating non-random worlds."
   ]
  },
  {
   "cell_type": "code",
   "execution_count": 1,
   "metadata": {},
   "outputs": [
    {
     "name": "stdout",
     "output_type": "stream",
     "text": [
      "Importing the households package\n",
      "Importing identity\n",
      "importing kinship\n",
      "importing residency\n",
      "importing behavior\n",
      "loading narrative\n",
      "Importing main.py\n",
      "importing inheritance\n",
      "importing marriage\n",
      "importing mobility\n"
     ]
    }
   ],
   "source": [
    "import os\n",
    "os.chdir('..')\n",
    "from households import *\n",
    "import pandas\n",
    "import matplotlib.pyplot as plt"
   ]
  },
  {
   "cell_type": "code",
   "execution_count": 2,
   "metadata": {},
   "outputs": [],
   "source": [
    "from households import *"
   ]
  },
  {
   "cell_type": "markdown",
   "metadata": {},
   "source": [
    "In this world everyone dies at age 60, gets married at age 20, never gets remarried, and has four children."
   ]
  },
  {
   "cell_type": "code",
   "execution_count": 3,
   "metadata": {},
   "outputs": [],
   "source": [
    "age_of_majority = 19\n",
    "mortality = AgeTable(ages=[0,60,100],sex1 = male, rates1 = [0,1], sex2 = female, rates2 = [0,1])\n",
    "eligibility = AgeTable(ages = [0,age_of_majority,100], sex1 = female, rates1 = [0,1], sex2 = male, rates2 = [0,1])\n",
    "remarriage = AgeTable.NullAgeTable()\n",
    "fertility = AgeTable(ages = [0,age_of_majority,age_of_majority+9,100], sex1 = female, rates1 = [0,1,0], sex2 = male, rates2 = [0,0,0])"
   ]
  },
  {
   "cell_type": "code",
   "execution_count": 4,
   "metadata": {},
   "outputs": [],
   "source": [
    "inherit_homestead = behavior.inheritance.InheritanceRuleComplex(has_property = behavior.inheritance.has_property_houses,\n",
    "                                                                    find_heirs = behavior.inheritance.find_heirs_sons_oldest_to_youngest,\n",
    "                                                                    limit_heirs = behavior.inheritance.limit_heirs_none,\n",
    "                                                                    distribute_property = behavior.inheritance.distribute_property_to_first_heir_and_move_household,\n",
    "                                                                    failure = behavior.inheritance.failed_inheritance_no_owner)\n",
    "\n",
    "marriagerule = behavior.marriage.MarriageRule(eligibility_agetable = eligibility,\n",
    "                                              get_eligible = behavior.marriage.get_eligible_not_sibling_same_community,\n",
    "                                              pick_spouse = behavior.marriage.pick_spouse_random,\n",
    "                                              locality = behavior.marriage.patrilocality,\n",
    "                                              remarriage_agetable = remarriage)\n",
    "\n",
    "def dummy(p):\n",
    "    print(p)\n",
    "    return behavior.mobility.leave_house_family(p)\n",
    "\n",
    "\n",
    "disinherited_leave = behavior.mobility.MobilityRule(check_household = behavior.mobility.check_household_overcrowded,\n",
    "                                                   who_leaves_house = dummy,\n",
    "                                                   destination = behavior.mobility.destination_random_house_same_village)\n",
    "\n",
    "#lambda house: behavior.fragmentation.brother_loses_out(house,age=18)"
   ]
  },
  {
   "cell_type": "code",
   "execution_count": 17,
   "metadata": {},
   "outputs": [],
   "source": [
    "start_pop = 10\n",
    "start_area = 200\n",
    "start_age = age_of_majority - 1\n",
    "\n",
    "rd.seed(1237) #Used here to standardize the example code across runs.\n",
    "sweetwater = Community(name = 'Sweetwater',\n",
    "                       pop = start_pop,\n",
    "                       area = start_area,\n",
    "                       startage = start_age,\n",
    "                       mortab = mortality,\n",
    "                       birthtab = fertility,\n",
    "                       marriagerule = marriagerule,\n",
    "                       inheritancerule = inherit_homestead,\n",
    "                       mobilityrule = disinherited_leave)\n",
    "rd.seed(1237) #important to standardize after setup, just in case"
   ]
  },
  {
   "cell_type": "code",
   "execution_count": 18,
   "metadata": {},
   "outputs": [
    {
     "name": "stdout",
     "output_type": "stream",
     "text": [
      "<households.main.Person object at 0x00000244063379C8>\n",
      "25\n"
     ]
    }
   ],
   "source": [
    "while sweetwater.moves == 0:\n",
    "    sweetwater.progress()\n",
    "    \n",
    "print(sweetwater.year)"
   ]
  },
  {
   "cell_type": "code",
   "execution_count": 23,
   "metadata": {
    "scrolled": true
   },
   "outputs": [
    {
     "name": "stdout",
     "output_type": "stream",
     "text": [
      "Ashley is a living woman, 43 years old, married with 8 children\n",
      "a multiple household with 11 people residing owned by Lee\n",
      "Lee is a living man, 43 years old, married with 8 children\n",
      "a multiple household with 11 people residing owned by Lee\n"
     ]
    }
   ],
   "source": [
    "p = [p for p in sweetwater.people if str(p) == '<households.main.Person object at 0x00000244063379C8>'][0]\n",
    "#behavior.mobility.check_household_overcrowded(p)\n",
    "#behavior.mobility.destination_random_house_same_village(None, [p])\n",
    "narrative.biography(p)\n",
    "narrative.census(p.has_house)\n",
    "for q in kinship.get_parents(p):\n",
    "    print(narrative.biography(q))\n",
    "    if q.has_house != None: print(narrative.census(q.has_house))"
   ]
  },
  {
   "cell_type": "code",
   "execution_count": null,
   "metadata": {},
   "outputs": [],
   "source": [
    "pp = [p for p in sweetwater.people if p.has_house is None]\n",
    "pf = kinship.get_family(pp[4])\n",
    "print([narrative.biography(p) for p in pf[3].has_house.people])\n",
    "print([narrative.biography(p) for p in pf])\n",
    "pf[3].has_house.owner in pf[3].has_house.people\n"
   ]
  },
  {
   "cell_type": "code",
   "execution_count": null,
   "metadata": {},
   "outputs": [],
   "source": [
    "h = [x for x in sweetwater.houses if len(x.people) >2][1] #\n",
    "print('This house contains ' + narrative.census(h)+':')\n",
    "for x in h.people:\n",
    "    print(narrative.biography(x)) \n",
    "print(' ')\n"
   ]
  },
  {
   "cell_type": "code",
   "execution_count": null,
   "metadata": {},
   "outputs": [],
   "source": [
    "#some tests for kinship definitions:\n",
    "print(kinship.get_parents(h.people[0]) == h.people[0].has_parents)\n",
    "print(kinship.get_spouse(h.people[0]) == h.people[0].has_spouse)\n",
    "print(kinship.get_children(h.people[0]) == h.people[0].has_children)\n",
    "print(kinship.get_parents(h.people[2]) == h.people[2].has_parents)\n",
    "print(kinship.get_spouse(h.people[2]) == h.people[2].has_spouse)\n",
    "print(kinship.get_children(h.people[2]) == h.people[2].has_children)\n",
    "print(kinship.get_siblings(h.people[2]) == h.people[3:])\n",
    "print(kinship.get_family(h.people[1]) == [h.people[1],h.people[0]]+h.people[2:])"
   ]
  },
  {
   "cell_type": "code",
   "execution_count": null,
   "metadata": {},
   "outputs": [],
   "source": [
    "#some  tests for marriage rules\n",
    "while sweetwater.year < 20:\n",
    "    sweetwater.progress()\n",
    "print('This house contains ' + narrative.census(h)+':')\n",
    "for x in h.people:\n",
    "    print(narrative.biography(x)) \n",
    "print(' ')\n",
    "\n",
    "peter = h.people[2]\n",
    "candidates = marriagerule._MarriageRule__get_eligible(peter)\n",
    "print(candidates)\n",
    "print(candidates == [p for p in peter.has_community.people if p.sex == female and p.marriagestatus == unmarried])\n",
    "print(marriagerule._MarriageRule__get_reciprocal(candidates[0],peter))\n",
    "print('')\n",
    "print(peter.marriagestatus.adjective)\n",
    "print(narrative.biography(peter))\n"
   ]
  },
  {
   "cell_type": "code",
   "execution_count": null,
   "metadata": {},
   "outputs": [],
   "source": [
    "if peter.marriagestatus == unmarried:\n",
    "    peter.marriagerule(peter)\n",
    "    print(peter.marriagestatus.adjective)\n",
    "    print(peter.has_spouse.name)\n",
    "    print(narrative.census(peter.has_house))\n",
    "    print(narrative.biography(peter))\n",
    "    print(narrative.biography(peter.has_spouse))"
   ]
  },
  {
   "cell_type": "code",
   "execution_count": null,
   "metadata": {},
   "outputs": [],
   "source": []
  }
 ],
 "metadata": {
  "kernelspec": {
   "display_name": "Python 3",
   "language": "python",
   "name": "python3"
  },
  "language_info": {
   "codemirror_mode": {
    "name": "ipython",
    "version": 3
   },
   "file_extension": ".py",
   "mimetype": "text/x-python",
   "name": "python",
   "nbconvert_exporter": "python",
   "pygments_lexer": "ipython3",
   "version": "3.7.7"
  }
 },
 "nbformat": 4,
 "nbformat_minor": 4
}
