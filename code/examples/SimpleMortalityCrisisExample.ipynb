{
 "cells": [
  {
   "cell_type": "markdown",
   "metadata": {},
   "source": [
    "# A Simple Deterministic Example with a Mortality Crisis"
   ]
  },
  {
   "cell_type": "code",
   "execution_count": 28,
   "metadata": {},
   "outputs": [],
   "source": [
    "import os\n",
    "os.chdir('..')\n",
    "from households import *\n",
    "import pandas\n",
    "import matplotlib.pyplot as plt\n",
    "import seaborn as sns\n",
    "import random as rd"
   ]
  },
  {
   "cell_type": "code",
   "execution_count": 29,
   "metadata": {},
   "outputs": [],
   "source": [
    "from households import *"
   ]
  },
  {
   "cell_type": "code",
   "execution_count": 30,
   "metadata": {},
   "outputs": [],
   "source": [
    "class MortalityCrisis(object):\n",
    "    \"\"\" A simulation-wide population crisis event with customizable start year, duration, and removal probabilities.\n",
    "    \n",
    "    When called, takes world as an argument and iterates through all community and household objects, \n",
    "    deciding for each person object whether or not they will be removed from the simulation based on \n",
    "    rates within plaguetab. Records removed people within list.\n",
    "    \n",
    "    Parameters\n",
    "    ----------\n",
    "    startyear: int\n",
    "        Defines starting year of crisis.\n",
    "    duration: int\n",
    "        Defines lenth and subsequent ending year of crisis.\n",
    "    plaguetab: list of 3 households.AgeTable\n",
    "        List of agetables for determining probability of removal based on household size.\n",
    "        \n",
    "    Attributes\n",
    "    ----------\n",
    "    killedbyplague: list\n",
    "        list of those killed by the mortality crisis over entire duration.\n",
    "    \"\"\"\n",
    "    def __init__(self, startyear, duration, plaguetab):\n",
    "        self.startyear = startyear\n",
    "        self.duration = duration\n",
    "        if type(plaguetab) != list or len(plaguetab) != 3:\n",
    "            raise TypeError('plaguetab not a list of length 3')\n",
    "        if all( [isinstance(pt, AgeTable) for pt in plaguetab] ) == False:\n",
    "            raise TypeError('plaguetab values not of type AgeTable')\n",
    "        self.plaguetab = plaguetab\n",
    "        self.killedbyplague = []\n",
    "    \n",
    "    def __call__(self, world):\n",
    "        \"\"\" Checks if the mortality crisis happens for a given year and appends removed to list.\n",
    "        \n",
    "        Parameters\n",
    "        ----------\n",
    "        world: World\n",
    "            The world object that the crisis will affect.\n",
    "        \"\"\"\n",
    "        \n",
    "        if world.year < self.startyear or world.year > self.startyear + self.duration:\n",
    "            pass\n",
    "        else:\n",
    "            for community in world.communities:\n",
    "                for house in community.houses:\n",
    "                    housepop = len(house.people)\n",
    "                    if housepop == 0: #0 because housepop is int\n",
    "                        next                    \n",
    "                    elif housepop <= 5:\n",
    "                        i = 0\n",
    "                    elif 5 < housepop <= 10:\n",
    "                        i = 1\n",
    "                    elif housepop > 10:\n",
    "                        i = 2\n",
    "                    else:\n",
    "                        #something has gone horribly wrong\n",
    "                        raise ValueError('housepop is not a recognizeable value')\n",
    "                    #loop through each person in this occupied house and check their rate\n",
    "                    for person in house.people:\n",
    "                        r = self.plaguetab[i].get_rate(person.sex, person.age)\n",
    "                        if r >= rd.random():\n",
    "                            person.__dies__()\n",
    "                            self.killedbyplague.append(person)\n",
    "            \n",
    "#[p for p in terra.thedead if p not in plague.killedbyplague] #get all Persons not killed by plague"
   ]
  },
  {
   "cell_type": "code",
   "execution_count": 125,
   "metadata": {},
   "outputs": [],
   "source": [
    "age_of_majority = 19\n",
    "#eligibility = AgeTable(ages = [0,age_of_majority,100], sex1 = female, rates1 = [0,1], sex2 = male, rates2 = [0,1])\n",
    "#fertility = AgeTable(ages = [0,age_of_majority,age_of_majority+5,100], sex1 = female, rates1 = [0,1,0], sex2 = male, rates2 = [0,0,0])\n",
    "#mortality = AgeTable(ages=[0,60,100],sex1 = male, rates1 = [0,1], sex2 = female, rates2 = [0,1])\n",
    "remarriage = AgeTable.NullAgeTable()\n",
    "\n",
    "## From SimpleRandomExample.ipynb\n",
    "eligibility = AgeTable(ages = [0,age_of_majority,100], sex1 = female, rates1 = [0,.5], sex2 = male, rates2 = [0,.25])\n",
    "fertility = AgeTable(ages = [0,age_of_majority,age_of_majority+10,100], sex1 = female, rates1 = [0,.65,0], sex2 = male, rates2 = [0,0,0])\n",
    "mortality = AgeTable(ages=[0,5,20,50,70,100], sex1 = male, rates1 = [.1,.01,0,.05,.5], sex2 = female, rates2 = [.1,.01,0,.05,.5])\n",
    "\n",
    "#setup for plaguetab\n",
    "br = 0.0072 #base fatality rate\n",
    "\n",
    "rates_hsize_5orless = [br*2, br, br*2]\n",
    "rates_hsize_5to10 = [(br*2.5), br*1.5, (br*2.5)]\n",
    "rates_hsize_morethan10 = [br*3,br*2, br*3]\n",
    "\n",
    "at_hsize_5orless = AgeTable(ages = [0,20,60,100],sex1 = female, rates1 = rates_hsize_5orless, sex2 = male, rates2 = rates_hsize_5orless)\n",
    "at_hsize_5to10 = AgeTable(ages = [0,20,60,100],sex1 = female, rates1 = rates_hsize_5to10, sex2 = male, rates2 = rates_hsize_5to10)\n",
    "at_hsize_morethan10 = AgeTable(ages = [0,20,60,100],sex1 = female, rates1 = rates_hsize_morethan10, sex2 = male, rates2 = rates_hsize_morethan10)\n",
    "\n",
    "plaguetab = [at_hsize_5orless, at_hsize_5to10, at_hsize_morethan10]"
   ]
  },
  {
   "cell_type": "code",
   "execution_count": 126,
   "metadata": {},
   "outputs": [],
   "source": [
    "#The MarriageRule\n",
    "marriagerule = behavior.marriage.MarriageRule(eligibility_agetable = eligibility, #defined above\n",
    "                                              get_eligible = behavior.marriage.get_eligible_not_sibling_same_community,\n",
    "                                              #find all single individuals in the village who aren't siblings\n",
    "                                              pick_spouse = behavior.marriage.pick_spouse_random, #pick a random spouse\n",
    "                                              locality = behavior.marriage.locality_patrilocality, #patrilocality\n",
    "                                              remarriage_agetable = remarriage #defined above\n",
    "                                             )\n",
    "\n",
    "#The MobilityRule\n",
    "def check_household_nonowner_adult_man_overcrowded(person):\n",
    "    \"\"\"Check that the household is overcrowded and that this person is not the owner and an adult.\"\"\"\n",
    "    overcrowded = behavior.mobility.check_household_overcrowded(person) #check overcrowding but also assert\n",
    "    ## that there is indeed a house to check\n",
    "    if overcrowded:\n",
    "        if person.age >= age_of_majority and person not in person.has_house.get_owners() and person.sex == identity.male:\n",
    "            #If above or at the age of majority and the person is a man who is not the owner of the house they live in\n",
    "            return True\n",
    "    return False\n",
    "\n",
    "mobilityrule = behavior.mobility.MobilityRule(check_household = check_household_nonowner_adult_man_overcrowded,\n",
    "                                                   who_leaves_house = behavior.mobility.who_leaves_house_family,\n",
    "                                                   destination = behavior.mobility.destination_random_house_same_village)\n",
    "#The InheritanceRule\n",
    "#Our custom function to check sons then brothers' sons;\n",
    "## note the use of lambda to make find_heirs_siblings_children into a single parameter function in order to define\n",
    "## the sex as male.\n",
    "find_heirs_sons_then_brothers_sons = behavior.inheritance.find_heirs_multiple_constructor(behavior.inheritance.find_heirs_sons_oldest_to_youngest,\n",
    "                                                     lambda p: behavior.inheritance.find_heirs_siblings_children_oldest_to_youngest(p,sex = identity.male))\n",
    "\n",
    "\n",
    "inheritancerule = behavior.inheritance.InheritanceRuleComplex(has_property = behavior.inheritance.has_property_houses,\n",
    "                                                                    find_heirs = find_heirs_sons_then_brothers_sons,\n",
    "                                                                    limit_heirs = behavior.inheritance.limit_heirs_not_owners,\n",
    "                                                                    distribute_property = behavior.inheritance.distribute_property_to_first_heir_and_move_household,\n",
    "                                                                    failure = behavior.inheritance.failed_inheritance_no_owner)\n",
    "\n",
    "birthrule = behavior.conception.BirthRule(marriedbirth = fertility,\n",
    "                                         unmarriedbirth = AgeTable.NullAgeTable(),\n",
    "                                         femalesexratio = .5,\n",
    "                                         maternaldeath = behavior.conception.maternal_death_zero,\n",
    "                                         infanticide = behavior.conception.infanticide_none)"
   ]
  },
  {
   "cell_type": "code",
   "execution_count": 133,
   "metadata": {},
   "outputs": [],
   "source": [
    "start_pop = 100 #just a few people to start\n",
    "start_area = 20000 #lots of room for growth\n",
    "start_age = age_of_majority - 1 #so that everyone makes the transition to marriage eligibility on time\n",
    "plague = MortalityCrisis(60, 10, plaguetab)\n",
    "pop_each_year = []\n",
    "\n",
    "rd.seed(9814) #Used here to standardize the example code across runs for any random parts like name generation.\n",
    "terra = World()\n",
    "sweetwater = Community(world = terra,\n",
    "                       name = 'Sweetwater',\n",
    "                       pop = start_pop,\n",
    "                       area = start_area,\n",
    "                       startage = start_age,\n",
    "                       mortab = mortality,\n",
    "                       birthtab = fertility,\n",
    "                       marriagerule = marriagerule,\n",
    "                       inheritancerule = inheritancerule,\n",
    "                       mobilityrule = mobilityrule,\n",
    "                       birthrule = birthrule)\n"
   ]
  },
  {
   "cell_type": "code",
   "execution_count": 136,
   "metadata": {},
   "outputs": [
    {
     "name": "stdout",
     "output_type": "stream",
     "text": [
      "200\n"
     ]
    }
   ],
   "source": [
    "while terra.year < 200: #run for however many years\n",
    "    plague(terra)\n",
    "    terra.progress()\n",
    "    pop_each_year.append(len(terra.people))\n",
    "    \n",
    "print(terra.year)\n",
    "\n"
   ]
  },
  {
   "cell_type": "code",
   "execution_count": 137,
   "metadata": {
    "scrolled": true
   },
   "outputs": [
    {
     "name": "stdout",
     "output_type": "stream",
     "text": [
      "575\n",
      "[98, 110, 133, 154, 177, 204, 233, 241, 258, 278, 264, 255, 248, 243, 238, 237, 236, 234, 234, 233, 232, 233, 237, 240, 248, 255, 269, 286, 308, 337, 351, 373, 377, 386, 387, 387, 382, 369, 358, 350, 346, 338, 330, 324, 321, 316, 314, 318, 320, 325, 338, 360, 363, 360, 367, 380, 391, 397, 396, 393, 388, 379, 364, 355, 345, 340, 328, 318, 313, 308, 304, 302, 300, 302, 303, 301, 307, 315, 321, 330, 331, 334, 335, 337, 333, 331, 320, 313, 309, 305, 297, 295, 292, 288, 287, 284, 284, 287, 284, 288, 291, 298, 297, 298, 299, 309, 317, 312, 313, 311, 313, 306, 300, 292, 291, 287, 288, 291, 287, 286, 285, 293, 292, 295, 299, 303, 305, 306, 307, 318, 324, 332, 337, 342, 339, 331, 328, 325, 322, 319, 313, 315, 313, 318, 320, 320, 323, 327, 328, 330, 335, 339, 342, 353, 363, 370, 385, 387, 389, 389, 397, 399, 395, 394, 393, 387, 385, 381, 381, 390, 400, 411, 418, 426, 439, 437, 438, 450, 455, 457, 461, 464, 472, 469, 465, 476, 478, 479, 487, 494, 499, 502, 509, 513, 524, 539, 556, 562, 568, 575]\n"
     ]
    }
   ],
   "source": [
    "#print(len(plague.killedbyplague))\n",
    "print(len(terra.people))\n",
    "print(pop_each_year)"
   ]
  },
  {
   "cell_type": "code",
   "execution_count": 138,
   "metadata": {},
   "outputs": [
    {
     "name": "stdout",
     "output_type": "stream",
     "text": [
      "\n"
     ]
    },
    {
     "data": {
      "image/png": "[encoded data removed]",
      "text/plain": [
       "<Figure size 864x288 with 3 Axes>"
      ]
     },
     "metadata": {
      "needs_background": "light"
     },
     "output_type": "display_data"
    }
   ],
   "source": [
    "f, (ax1, ax2, ax3) = plt.subplots(1,3, figsize = (12,4))\n",
    "#sns.set_style(\"whitegrid\")\n",
    "sns.distplot([min(d.get_events().keys()) for d in terra.library['Person']], kde = False, bins = range(terra.year+2), ax = ax1)\n",
    "ax1.set_title(\"Birth years of people\")\n",
    "#plt.subtitle(\"Third generation is normally distributed.\")\n",
    "ax1.set_xlabel(\"Year\")\n",
    "ax1.set_ylabel(\"# births per year\")\n",
    "\n",
    "sns.distplot([l.year for i in range(len(terra.library['Person'])) for x in terra.library['Person'][i].get_events().items() for l in x[1] if isinstance(l,narrative.MarriageEvent)]\n",
    "             , kde = False, bins = range(terra.year+2), ax = ax2)\n",
    "ax2.set_title(\"Marriages\")\n",
    "#ax2.subtitle(\"Third generation is normally distributed.\")\n",
    "ax2.set_xlabel(\"Year\")\n",
    "ax2.set_ylabel(\"# marriages per year\")\n",
    "\n",
    "sns.distplot([l.year for i in range(len(terra.library['Person'])) for x in terra.library['Person'][i].get_events().items() for l in x[1] if terra.library['Person'][i].associated not in plague.killedbyplague and isinstance(l,narrative.DeathEvent)],\n",
    "             kde = False, bins = range(terra.year+2), ax = ax3)\n",
    "sns.distplot([l.year for i in range(len(terra.library['Person'])) for x in terra.library['Person'][i].get_events().items() for l in x[1] if terra.library['Person'][i].associated in plague.killedbyplague and isinstance(l,narrative.DeathEvent)],\n",
    "             kde = False, bins = range(terra.year+2), ax = ax3)\n",
    "ax3.set_title(\"Deaths\")\n",
    "#ax2.subtitle(\"Third generation is normally distributed.\")\n",
    "ax3.set_xlabel(\"Year\")\n",
    "ax3.set_ylabel(\"# deaths per year\")\n",
    "\n",
    "\n",
    "print('')"
   ]
  },
  {
   "cell_type": "code",
   "execution_count": 139,
   "metadata": {
    "scrolled": true
   },
   "outputs": [
    {
     "name": "stdout",
     "output_type": "stream",
     "text": [
      "\n"
     ]
    },
    {
     "data": {
      "image/png": "[encoded data removed]",
      "text/plain": [
       "<Figure size 432x288 with 1 Axes>"
      ]
     },
     "metadata": {
      "needs_background": "light"
     },
     "output_type": "display_data"
    }
   ],
   "source": [
    "sns.countplot([residency.classify(h) for h in terra.houses if h.people != []])\n",
    "plt.title('Laslett Typology of Households for all Occupied Houses')\n",
    "plt.xlabel('Household type (number of nuclear families)')\n",
    "print('')"
   ]
  },
  {
   "cell_type": "code",
   "execution_count": 140,
   "metadata": {},
   "outputs": [
    {
     "data": {
      "text/plain": [
       "[<matplotlib.lines.Line2D at 0x19ed84b6a08>]"
      ]
     },
     "execution_count": 140,
     "metadata": {},
     "output_type": "execute_result"
    },
    {
     "data": {
      "image/png": "[encoded data removed]",
      "text/plain": [
       "<Figure size 432x288 with 1 Axes>"
      ]
     },
     "metadata": {
      "needs_background": "light"
     },
     "output_type": "display_data"
    }
   ],
   "source": [
    "#Population over time\n",
    "data_x = list(range(terra.year))\n",
    "data_y = pop_each_year\n",
    "plt.xlabel('Year')\n",
    "plt.ylabel('Population')\n",
    "plt.title('Total Population Over Time')\n",
    "plt.plot(data_x, data_y)\n",
    "\n",
    "#individual households over time\n",
    "\n",
    "#number of different households at different population levels\n",
    "\n",
    "#"
   ]
  },
  {
   "cell_type": "code",
   "execution_count": 13,
   "metadata": {},
   "outputs": [
    {
     "name": "stdout",
     "output_type": "stream",
     "text": [
      "[299, 170, 256, 516, 296, 422]\n"
     ]
    }
   ],
   "source": [
    "killednum = []\n",
    "seeds = [123, 456, 789]\n",
    "\n",
    "for d in [5,10]:\n",
    "    for s in seeds:\n",
    "\n",
    "        start_pop = 100 #just a few people to start\n",
    "        start_area = 2000 #lots of room for growth\n",
    "        start_age = age_of_majority - 1 #so that everyone makes the transition to marriage eligibility on time\n",
    "        plague = MortalityCrisis(75, d, plaguetab)\n",
    "\n",
    "        rd.seed(s) #Used here to standardize the example code across runs for any random parts like name generation.\n",
    "        terra = World()\n",
    "        sweetwater = Community(world = terra,\n",
    "                               name = 'Sweetwater',\n",
    "                               pop = start_pop,\n",
    "                               area = start_area,\n",
    "                               startage = start_age,\n",
    "                               mortab = mortality,\n",
    "                               birthtab = fertility,\n",
    "                               marriagerule = marriagerule,\n",
    "                               inheritancerule = inheritancerule,\n",
    "                               mobilityrule = mobilityrule,\n",
    "                               birthrule = birthrule)\n",
    "        while terra.year < 100: #run for 42 years\n",
    "            plague(terra)\n",
    "            terra.progress()\n",
    "        #write some history\n",
    "        killednum.append(len(plague.killedbyplague))\n",
    "print(killednum)\n"
   ]
  },
  {
   "cell_type": "markdown",
   "metadata": {},
   "source": [
    "#### Estimated Average Annual Death Rates for the Antonine Plague\n",
    "\n",
    "Total Fatality Rate for 165-175 for Entire Empire: 7-10%\n",
    "    \n",
    "    7% - Avg Annual rate: 0.0072\n",
    "    8% - Avg Annual rate: 0.0083\n",
    "    9% - Avg Annual rate: 0.0094\n",
    "    10% - Avg Annual rate: 0.0105\n",
    "\n",
    "Total Fatality Rate for Entire Plague for Cities & Armies: 13-15%\n",
    "    \n",
    "    13% - Avg Annual rate: 0.0138\n",
    "    14% - Avg Annual rate: 0.0149\n",
    "    15% - Avg Annual rate: 0.0161\n"
   ]
  },
  {
   "cell_type": "code",
   "execution_count": 21,
   "metadata": {},
   "outputs": [
    {
     "name": "stdout",
     "output_type": "stream",
     "text": [
      "0.007230800339783072\n"
     ]
    }
   ],
   "source": [
    "k = .07 #killed\n",
    "nk = 1 - k #not killed\n",
    "y = 10 #years\n",
    "p = (nk) ** (1./y)\n",
    "print(1-p)"
   ]
  },
  {
   "cell_type": "code",
   "execution_count": null,
   "metadata": {},
   "outputs": [],
   "source": []
  }
 ],
 "metadata": {
  "kernelspec": {
   "display_name": "Python 3",
   "language": "python",
   "name": "python3"
  },
  "language_info": {
   "codemirror_mode": {
    "name": "ipython",
    "version": 3
   },
   "file_extension": ".py",
   "mimetype": "text/x-python",
   "name": "python",
   "nbconvert_exporter": "python",
   "pygments_lexer": "ipython3",
   "version": "3.7.6"
  }
 },
 "nbformat": 4,
 "nbformat_minor": 4
}
