{
 "cells": [
  {
   "cell_type": "markdown",
   "metadata": {},
   "source": [
    "# A simple random example #\n",
    "\n",
    "This Notebook provides an easy way to run a simple random simulation (i.e. all probabilities are simplified but do rely on randomness).\n",
    "\n"
   ]
  },
  {
   "cell_type": "markdown",
   "metadata": {},
   "source": [
    "We start by loading the households package:"
   ]
  },
  {
   "cell_type": "code",
   "execution_count": null,
   "metadata": {},
   "outputs": [],
   "source": [
    "import os\n",
    "os.chdir('..')\n",
    "from households import *\n",
    "import pandas\n",
    "import matplotlib.pyplot as plt\n",
    "import seaborn as sns\n",
    "#This is not needed, but is here as an example\n",
    "#import sys\n",
    "#sys.path.append('C:\\\\\\\\github\\\\\\\\Dummy-Classes')\n",
    "#import practice_class_functions"
   ]
  },
  {
   "cell_type": "markdown",
   "metadata": {},
   "source": [
    "(You'll only ever need to run this next line if you've made changes to the code and are needing to reload the package.)"
   ]
  },
  {
   "cell_type": "code",
   "execution_count": null,
   "metadata": {},
   "outputs": [],
   "source": [
    "from households import *"
   ]
  },
  {
   "cell_type": "markdown",
   "metadata": {},
   "source": [
    "## Scheduling life events ##\n",
    "\n",
    "Men tend to marry later than women; women have a 10-year period of fertility; men and women both tend to live a long time if they survive childhood; and men and women can remarry gradually after they are widowed."
   ]
  },
  {
   "cell_type": "code",
   "execution_count": null,
   "metadata": {},
   "outputs": [],
   "source": [
    "age_of_majority = 19\n",
    "eligibility = AgeTable(ages = [0,age_of_majority,100], sex1 = female, rates1 = [0,.5], sex2 = male, rates2 = [0,.25])\n",
    "fertility = AgeTable(ages = [0,age_of_majority,age_of_majority+10,100], sex1 = female, rates1 = [0,.65,0], sex2 = male, rates2 = [0,0,0])\n",
    "mortality = AgeTable(ages=[0,5,20,50,70,100], sex1 = male, rates1 = [.1,.01,0,.05,.5], sex2 = female, rates2 = [.1,.01,0,.05,.5])\n",
    "remarriage = AgeTable(ages = [0,age_of_majority,100], sex1 = female, rates1 = [0,.1], sex2 = male, rates2 = [0,.1])\n"
   ]
  },
  {
   "cell_type": "markdown",
   "metadata": {},
   "source": [
    "All of these AgeTables need to be inserted into the appropriate syntax: in the case of mortality and fertility rates, these are still given directly to the starting community of `Persons`, while eligibility and remarriage are actually part of a `MarriageRule` that gets passed from the community to individual people.\n",
    "\n",
    "The three rules that we have to define are, at present, a `MarriageRule`, a `MobilityRule`, and an `InheritanceRule`. We treat these each in turn.\n",
    "\n",
    "\n",
    "### `MarriageRule`: Pick a random, single, eligible spouse\n",
    "\n",
    "The `MarriageRule` we will implement will use the `eligibility` and `remarriage` schedules above and then define what is involved in finding and marrying a spouse via the defined functions in `behavior.marriage`. In particular, we need to define:\n",
    "\n",
    "    1. who is considered a potential spouse,\n",
    "    2. how we will pick among the selection of spouses, and \n",
    "    3. where newlyweds live\n",
    "\n",
    "We define an eligible partner as any single, eligible (`unmarried`), non-sibling in the same community using `get_eligible_not_sibling_same_community`. We pick a spouse at random from the selection (`pick_spouse_random`) and then attempt to move the new couple in with the husband's family if there is space; otherwise they move to a new house (`locality_patrilocality`).\n",
    "\n",
    "### `MobilityRule`: Adult children leave a household with their nuclear family if it gets overcrowded\n",
    "\n",
    "The `MobilityRule` we will create will check whether an adult is living in an overcrowded house they don't own, and then move them with their spouse and children to a new house. There exists a default function to check whether a household is overcrowded (`check_household_overcrowded`), but we need to create a new function that combines this with the age check and the ownership check. We will call this function `check_household_nonowner_adult_man_overcrowded` to keep the nomenclature consistent. We then use the existing `who_leaves_house_family` to identify their family and `destination_random_house_same_village` to find a new house to move them to.\n",
    "\n",
    "### `InheritanceRule`: Let sons and then brothers' sons inherit houses, but only own one\n",
    "\n",
    "The `InheritanceRule` will be to check the male line of a family, starting with male children and followed by brothers' sons. We implement this by using the `find_heirs_multiple_constructor`, which combines multiple `find_heirs` functions into a single ordered list. We call this new function `find_heirs_sons_then_brothers_sons` and use it to defined the heirs of a person with a house to be inherited (`has_property_houses`). We then limit all heirs to lack property before inheritance (`limit_heirs_not_owners`), and say that the first heir in the list (who is therefore likely the oldest son or oldest brother's older son without a house) will be the one to inherit (`distribute_property_to_first_heir_and_move_household`). If inheritance fails, the house defaults to no owner, and once all family members leave or die it will default to no ownership (`failed_inheritance_no_owner`). \n",
    "\n",
    "### `BirthRule`: Use the fertility schedule without infanticide or maternal death\n",
    "\n",
    "Using the AgeTable for fertiltiy above, the `BirthRule` just passes this as the fertility for a married woman, with fertility for an unmarried woman defined as a NullAgeTable (always 0). The sex ratio is 50-50, and  infanticide is not a factory. 15% of women die during childbirth."
   ]
  },
  {
   "cell_type": "code",
   "execution_count": null,
   "metadata": {},
   "outputs": [],
   "source": [
    "#The MarriageRule\n",
    "marriagerule = behavior.marriage.MarriageRule(eligibility_agetable = eligibility, #defined above\n",
    "                                              get_eligible = behavior.marriage.get_eligible_not_sibling_same_community,\n",
    "                                              #find all single individuals in the village who aren't siblings\n",
    "                                              pick_spouse = behavior.marriage.pick_spouse_random, #pick a random spouse\n",
    "                                              locality = behavior.marriage.locality_patrilocality, #patrilocality\n",
    "                                              remarriage_agetable = remarriage #defined above\n",
    "                                             )\n",
    "\n",
    "#The MobilityRule\n",
    "def check_household_nonowner_adult_man_overcrowded(person):\n",
    "    \"\"\"Check that the household is overcrowded and that this person is not the owner and an adult.\"\"\"\n",
    "    overcrowded = behavior.mobility.check_household_overcrowded(person) #check overcrowding but also assert\n",
    "    ## that there is indeed a house to check\n",
    "    if overcrowded:\n",
    "        if person.age >= age_of_majority and person not in person.has_house.get_owners() and person.sex == identity.male:\n",
    "            #If above or at the age of majority and the person is a man who is not the owner of the house they live in\n",
    "            return True\n",
    "    return False\n",
    "\n",
    "mobilityrule = behavior.mobility.MobilityRule(check_household = check_household_nonowner_adult_man_overcrowded,\n",
    "                                                   who_leaves_house = behavior.mobility.who_leaves_house_family,\n",
    "                                                   destination = behavior.mobility.destination_random_house_same_village)\n",
    "\n",
    "#The InheritanceRule\n",
    "#Our custom function to check sons then brothers' sons;\n",
    "## note the use of lambda to make find_heirs_siblings_children into a single parameter function in order to define\n",
    "## the sex as male.\n",
    "find_heirs_sons_then_brothers_sons = behavior.inheritance.find_heirs_multiple_constructor(behavior.inheritance.find_heirs_sons_oldest_to_youngest,\n",
    "                                                     lambda p: behavior.inheritance.find_heirs_siblings_children_oldest_to_youngest(p,sex = identity.male))\n",
    "\n",
    "\n",
    "inheritancerule = behavior.inheritance.InheritanceRuleComplex(has_property = behavior.inheritance.has_property_houses,\n",
    "                                                                    find_heirs = find_heirs_sons_then_brothers_sons,\n",
    "                                                                    limit_heirs = behavior.inheritance.limit_heirs_not_owners,\n",
    "                                                                    distribute_property = behavior.inheritance.distribute_property_to_first_heir_and_move_household,\n",
    "                                                                    failure = behavior.inheritance.failed_inheritance_no_owner)\n",
    "\n",
    "birthrule = behavior.conception.BirthRule(marriedbirth = fertility,\n",
    "                                         unmarriedbirth = AgeTable.NullAgeTable(),\n",
    "                                         femalesexratio = .5,\n",
    "                                         maternaldeath = lambda p: behavior.conception.maternal_death_random(p, .15),\n",
    "                                         infanticide = behavior.conception.infanticide_none)"
   ]
  },
  {
   "cell_type": "markdown",
   "metadata": {},
   "source": [
    "With all of these functions defined, we can now create the `World` of the simulation and our sole `Community`, Sweetwater."
   ]
  },
  {
   "cell_type": "code",
   "execution_count": null,
   "metadata": {},
   "outputs": [],
   "source": [
    "start_pop = 100 #just a few people to start\n",
    "start_area = 200 #lots of room for growth\n",
    "start_age = age_of_majority - 1 #so that everyone makes the transition to marriage eligibility on time\n",
    "\n",
    "rd.seed(1237) #Used here to standardize the example code across runs for any random parts like name generation.\n",
    "terra = World()\n",
    "sweetwater = Community(world = terra,\n",
    "                       name = 'Sweetwater',\n",
    "                       pop = start_pop,\n",
    "                       area = start_area,\n",
    "                       startage = start_age,\n",
    "                       mortab = mortality,\n",
    "                       birthtab = fertility,\n",
    "                       marriagerule = marriagerule,\n",
    "                       inheritancerule = inheritancerule,\n",
    "                       mobilityrule = mobilityrule,\n",
    "                       birthrule = birthrule)\n",
    "\n",
    "\n",
    "rd.seed(1237) #important to standardize after setup, just in case\n",
    "pophistory = []"
   ]
  },
  {
   "cell_type": "markdown",
   "metadata": {},
   "source": [
    "And there we have it! The hard work is setting up the functions; making the world and defining communities is easy. We can now run the simulation."
   ]
  },
  {
   "cell_type": "code",
   "execution_count": null,
   "metadata": {},
   "outputs": [],
   "source": [
    "while terra.year < 100: #run for 99 years\n",
    "    terra.progress()\n",
    "    pophistory.append(len(terra.people))\n",
    "    \n",
    "print(terra.year)"
   ]
  },
  {
   "cell_type": "markdown",
   "metadata": {},
   "source": [
    "We can now generate some figures to see what's been going on. For instance, let's see what birthyears are recorded in Diaries of individuals."
   ]
  },
  {
   "cell_type": "code",
   "execution_count": null,
   "metadata": {},
   "outputs": [],
   "source": [
    "f, (ax1, ax2, ax3) = plt.subplots(1,3, figsize = (12,4))\n",
    "#sns.set_style(\"whitegrid\")\n",
    "sns.distplot([min(d.get_events().keys()) for d in terra.library['Person']], kde = False, bins = range(45), ax = ax1)\n",
    "ax1.set_title(\"Birth years of people\")\n",
    "#plt.subtitle(\"Third generation is normally distributed.\")\n",
    "ax1.set_xlabel(\"Year\")\n",
    "ax1.set_ylabel(\"# births per year\")\n",
    "\n",
    "sns.distplot([l.year for i in range(len(terra.library['Person'])) for x in terra.library['Person'][i].get_events().items() for l in x[1] if isinstance(l,narrative.MarriageEvent)]\n",
    "             , kde = False, bins = range(45), ax = ax2)\n",
    "ax2.set_title(\"Marriages\")\n",
    "#ax2.subtitle(\"Third generation is normally distributed.\")\n",
    "ax2.set_xlabel(\"Year\")\n",
    "ax2.set_ylabel(\"# marriages per year\")\n",
    "\n",
    "sns.distplot([l.year for i in range(len(terra.library['Person'])) for x in terra.library['Person'][i].get_events().items() for l in x[1] if isinstance(l,narrative.DeathEvent)],\n",
    "             kde = False, bins = range(45), ax = ax3)\n",
    "ax3.set_title(\"Deaths\")\n",
    "#ax2.subtitle(\"Third generation is normally distributed.\")\n",
    "ax3.set_xlabel(\"Year\")\n",
    "ax3.set_ylabel(\"# deaths per year\")\n",
    "\n",
    "\n",
    "print('')\n",
    "#plt.hist([min(d.get_events().keys()) for d in terra.library['Person']], bins = range(45))"
   ]
  },
  {
   "cell_type": "markdown",
   "metadata": {},
   "source": [
    "We can also look at the different ways people are living in houses, for example how many nuclear families live in each house."
   ]
  },
  {
   "cell_type": "code",
   "execution_count": null,
   "metadata": {},
   "outputs": [],
   "source": [
    "sns.countplot([residency.classify(h) for h in terra.houses if h.people != []])\n",
    "plt.title('Lastlett Typology of Households for all Occupied Houses')\n",
    "plt.xlabel('Household type (number of nuclear families)')\n",
    "print('')"
   ]
  },
  {
   "cell_type": "code",
   "execution_count": null,
   "metadata": {},
   "outputs": [],
   "source": [
    "sns.lineplot(range(terra.year),pophistory)\n",
    "plt.title('Population through time')"
   ]
  },
  {
   "cell_type": "markdown",
   "metadata": {},
   "source": [
    "In addition to viewing the entire world, we can also use the tools in narrative to explore single individuals and their households."
   ]
  },
  {
   "cell_type": "code",
   "execution_count": null,
   "metadata": {
    "scrolled": true
   },
   "outputs": [],
   "source": [
    "#Run this first to pick a random house\n",
    "h = rd.choice([x for x in sweetwater.houses if len(x.people) >= 2])#pick a house with at least two people in it to make it interesting"
   ]
  },
  {
   "cell_type": "code",
   "execution_count": null,
   "metadata": {},
   "outputs": [],
   "source": [
    "#Now run this to see the output\n",
    "print('The house at ' + h.address + ' contains ' + narrative.census(h)+':')\n",
    "for x in h.people:\n",
    "    print(narrative.biography(x)) \n",
    "print(' ')\n"
   ]
  },
  {
   "cell_type": "code",
   "execution_count": null,
   "metadata": {},
   "outputs": [],
   "source": [
    "#Here is some space to explore the currently selected household, if you want.\n",
    "\n",
    "strange = [h for h in terra.houses if len([p for p in h.people if p in h.get_owners()]) == 0 and len(h.people) > 0]\n",
    "i = 0\n",
    "print(strange[i].address + ': ' + narrative.census( strange[i]))\n",
    "o = strange[i].get_owners()[0]\n",
    "print(narrative.biography(o))\n",
    "#who lives there?\n",
    "for p in strange[i].people:\n",
    "    print(narrative.biography(p))\n",
    "    print(p in kinship.get_siblings(o))\n",
    "    print(p in kinship.get_children(o))\n"
   ]
  },
  {
   "cell_type": "code",
   "execution_count": null,
   "metadata": {},
   "outputs": [],
   "source": [
    "f = [p for p in kinship.get_parents(o) if p.sex == identity.male][0]\n",
    "\n",
    "print([e.summary() for l in o.diary.get_events().items() for e in l[1] if e.house is not None]) # \n"
   ]
  },
  {
   "cell_type": "markdown",
   "metadata": {},
   "source": [
    "This provides the tools you need to implement and see some results of a simulation. \n",
    "\n",
    "The sections below provide some debugging tools."
   ]
  },
  {
   "cell_type": "code",
   "execution_count": null,
   "metadata": {},
   "outputs": [],
   "source": [
    "#Look up a single person based on memory\n",
    "p = [p for p in sweetwater.people if str(p) == '<households.main.Person object at 0x00000244063379C8>'][0]\n",
    "#behavior.mobility.check_household_overcrowded(p)\n",
    "#behavior.mobility.destination_random_house_same_village(None, [p])\n",
    "narrative.biography(p)\n",
    "narrative.census(p.has_house)\n",
    "for q in kinship.get_parents(p):\n",
    "    print(narrative.biography(q))\n",
    "    if q.has_house != None: print(narrative.census(q.has_house))"
   ]
  },
  {
   "cell_type": "code",
   "execution_count": null,
   "metadata": {},
   "outputs": [],
   "source": []
  }
 ],
 "metadata": {
  "kernelspec": {
   "display_name": "Python 3",
   "language": "python",
   "name": "python3"
  },
  "language_info": {
   "codemirror_mode": {
    "name": "ipython",
    "version": 3
   },
   "file_extension": ".py",
   "mimetype": "text/x-python",
   "name": "python",
   "nbconvert_exporter": "python",
   "pygments_lexer": "ipython3",
   "version": "3.7.7"
  }
 },
 "nbformat": 4,
 "nbformat_minor": 4
}
