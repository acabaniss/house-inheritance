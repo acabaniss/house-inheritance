{
 "cells": [
  {
   "cell_type": "markdown",
   "metadata": {},
   "source": [
    "# A Simple Example with a Mortality Crisis #\n",
    "\n",
    "This notebook allows you enact a mortality crisis upon a variety of simulations using either random or deterministic probabilities. "
   ]
  },
  {
   "cell_type": "markdown",
   "metadata": {},
   "source": [
    "We start by loading the households package:"
   ]
  },
  {
   "cell_type": "code",
   "execution_count": 1,
   "metadata": {},
   "outputs": [
    {
     "name": "stdout",
     "output_type": "stream",
     "text": [
      "Importing the households package\n",
      "Importing identity\n",
      "importing kinship\n",
      "importing residency\n",
      "importing behavior\n",
      "loading narrative\n",
      "Importing main.py\n",
      "importing inheritance\n",
      "importing marriage\n",
      "importing mobility\n"
     ]
    }
   ],
   "source": [
    "import os\n",
    "os.chdir('..')\n",
    "from households import *\n",
    "import pandas\n",
    "import matplotlib.pyplot as plt\n",
    "import seaborn as sns\n",
    "import random as rd"
   ]
  },
  {
   "cell_type": "markdown",
   "metadata": {},
   "source": [
    "Only run this next line if you've made changes to the code and are needing to reload the package."
   ]
  },
  {
   "cell_type": "code",
   "execution_count": 2,
   "metadata": {},
   "outputs": [],
   "source": [
    "from households import *"
   ]
  },
  {
   "cell_type": "markdown",
   "metadata": {},
   "source": [
    "## Scheduling life events ##"
   ]
  },
  {
   "cell_type": "markdown",
   "metadata": {},
   "source": [
    "### For Random Scheduling ###\n",
    "Men tend to marry later than women; women have a 10-year period of fertility; men and women both tend to live a long time if they survive childhood; and men and women can remarry gradually after they are widowed.\n"
   ]
  },
  {
   "cell_type": "code",
   "execution_count": 3,
   "metadata": {},
   "outputs": [],
   "source": [
    "# Run these next five lines if using random scheduling.\n",
    "\n",
    "age_of_majority = 19\n",
    "eligibility = AgeTable(ages = [0,age_of_majority,100], sex1 = female, rates1 = [0,.5], sex2 = male, rates2 = [0,.25])\n",
    "fertility = AgeTable(ages = [0,age_of_majority,age_of_majority+10,100], sex1 = female, rates1 = [0,.65,0], sex2 = male, rates2 = [0,0,0])\n",
    "mortality = AgeTable(ages=[0,5,20,50,70,100], sex1 = male, rates1 = [.1,.01,0,.05,.5], sex2 = female, rates2 = [.1,.01,0,.05,.5])\n",
    "remarriage = AgeTable(ages = [0,age_of_majority,100], sex1 = female, rates1 = [0,.1], sex2 = male, rates2 = [0,.1])"
   ]
  },
  {
   "cell_type": "markdown",
   "metadata": {},
   "source": [
    "### For Deterministic Scheduling ###\n",
    "Everyone gets married at age 20, has up to four children, and dies at age 60. To accomplish this, we define AgeTables for eligibility (starting at an age of majority such that everyone achieves eligibility at 19 to be married at age 20 if sufficient partners exist), fertility (four years max of potential fertility when married), and mortality (univerally 1 starting at age 60, ensuring everyone dies then), with remarriage defined by an all-zero table."
   ]
  },
  {
   "cell_type": "code",
   "execution_count": 4,
   "metadata": {},
   "outputs": [],
   "source": [
    "# Run these next five lines if using deterministic scheduling.\n",
    "\n",
    "#age_of_majority = 19\n",
    "#eligibility = AgeTable(ages = [0,age_of_majority,100], sex1 = female, rates1 = [0,1], sex2 = male, rates2 = [0,1])\n",
    "#fertility = AgeTable(ages = [0,age_of_majority,age_of_majority+5,100], sex1 = female, rates1 = [0,1,0], sex2 = male, rates2 = [0,0,0])\n",
    "#mortality = AgeTable(ages=[0,60,100],sex1 = male, rates1 = [0,1], sex2 = female, rates2 = [0,1])\n",
    "#remarriage = AgeTable.NullAgeTable()"
   ]
  },
  {
   "cell_type": "markdown",
   "metadata": {},
   "source": [
    "All of these AgeTables need to be inserted into the appropriate syntax: in the case of mortality and fertility rates, these are still given directly to the starting community of `Persons`, while eligibility and remarriage are actually part of a `MarriageRule` that gets passed from the community to individual people.\n",
    "\n",
    "The three rules that we have to define are, at present, a `MarriageRule`, a `MobilityRule`, and an `InheritanceRule`. We treat these each in turn.\n",
    "\n",
    "\n",
    "### `MarriageRule`: Pick a random, single, eligible spouse\n",
    "\n",
    "The `MarriageRule` we will implement will use the `eligibility` and `remarriage` schedules above and then define what is involved in finding and marrying a spouse via the defined functions in `behavior.marriage`. In particular, we need to define:\n",
    "\n",
    "    1. who is considered a potential spouse,\n",
    "    2. how we will pick among the selection of spouses, and \n",
    "    3. where newlyweds live\n",
    "\n",
    "We define an eligible partner as any single, eligible (`unmarried`), non-sibling in the same community using `get_eligible_not_sibling_same_community`. We pick a spouse at random from the selection (`pick_spouse_random`) and then attempt to move the new couple in with the husband's family if there is space; otherwise they move to a new house (`locality_patrilocality`).\n",
    "\n",
    "### `MobilityRule`: Adult children leave a household with their nuclear family if it gets overcrowded\n",
    "\n",
    "The `MobilityRule` we will create will check whether an adult is living in an overcrowded house they don't own, and then move them with their spouse and children to a new house. There exists a default function to check whether a household is overcrowded (`check_household_overcrowded`), but we need to create a new function that combines this with the age check and the ownership check. We will call this function `check_household_nonowner_adult_man_overcrowded` to keep the nomenclature consistent. We then use the existing `who_leaves_house_family` to identify their family and `destination_random_house_same_village` to find a new house to move them to.\n",
    "\n",
    "### `InheritanceRule`: Let sons and then brothers' sons inherit houses, but only own one\n",
    "\n",
    "The `InheritanceRule` will be to check the male line of a family, starting with male children and followed by brothers' sons. We implement this by using the `find_heirs_multiple_constructor`, which combines multiple `find_heirs` functions into a single ordered list. We call this new function `find_heirs_sons_then_brothers_sons` and use it to defined the heirs of a person with a house to be inherited (`has_property_houses`). We then limit all heirs to lack property before inheritance (`limit_heirs_not_owners`), and say that the first heir in the list (who is therefore likely the oldest son or oldest brother's older son without a house) will be the one to inherit (`distribute_property_to_first_heir_and_move_household`). If inheritance fails, the house defaults to no owner, and once all family members leave or die it will default to no ownership (`failed_inheritance_no_owner`). \n",
    "\n",
    "### `BirthRule`: Use the fertility schedule without infanticide or maternal death\n",
    "\n",
    "Using the AgeTable for fertiltiy above, the `BirthRule` just passes this as the fertility for a married woman, with fertility for an unmarried woman defined as a NullAgeTable (always 0). The sex ratio is 50-50, and  infanticide is not a factory. 15% of women die during childbirth."
   ]
  },
  {
   "cell_type": "code",
   "execution_count": 5,
   "metadata": {},
   "outputs": [],
   "source": [
    "#The MarriageRule\n",
    "marriagerule = behavior.marriage.MarriageRule(eligibility_agetable = eligibility, #defined above\n",
    "                                              get_eligible = behavior.marriage.get_eligible_not_sibling_same_community,\n",
    "                                              #find all single individuals in the village who aren't siblings\n",
    "                                              pick_spouse = behavior.marriage.pick_spouse_random, #pick a random spouse\n",
    "                                              locality = behavior.marriage.locality_patrilocality, #patrilocality\n",
    "                                              remarriage_agetable = remarriage #defined above\n",
    "                                             )\n",
    "\n",
    "#The MobilityRule\n",
    "def check_household_nonowner_adult_man_overcrowded(person):\n",
    "    \"\"\"Check that the household is overcrowded and that this person is not the owner and an adult.\"\"\"\n",
    "    overcrowded = behavior.mobility.check_household_overcrowded(person) #check overcrowding but also assert\n",
    "    ## that there is indeed a house to check\n",
    "    if overcrowded:\n",
    "        if person.age >= age_of_majority and person not in person.has_house.get_owners() and person.sex == identity.male:\n",
    "            #If above or at the age of majority and the person is a man who is not the owner of the house they live in\n",
    "            return True\n",
    "    return False\n",
    "\n",
    "mobilityrule = behavior.mobility.MobilityRule(check_household = check_household_nonowner_adult_man_overcrowded,\n",
    "                                                   who_leaves_house = behavior.mobility.who_leaves_house_family,\n",
    "                                                   destination = behavior.mobility.destination_random_house_same_village)\n",
    "#The InheritanceRule\n",
    "#Our custom function to check sons then brothers' sons;\n",
    "## note the use of lambda to make find_heirs_siblings_children into a single parameter function in order to define\n",
    "## the sex as male.\n",
    "find_heirs_sons_then_brothers_sons = behavior.inheritance.find_heirs_multiple_constructor(behavior.inheritance.find_heirs_sons_oldest_to_youngest,\n",
    "                                                     lambda p: behavior.inheritance.find_heirs_siblings_children_oldest_to_youngest(p,sex = identity.male))\n",
    "\n",
    "\n",
    "inheritancerule = behavior.inheritance.InheritanceRuleComplex(has_property = behavior.inheritance.has_property_houses,\n",
    "                                                                    find_heirs = find_heirs_sons_then_brothers_sons,\n",
    "                                                                    limit_heirs = behavior.inheritance.limit_heirs_not_owners,\n",
    "                                                                    distribute_property = behavior.inheritance.distribute_property_to_first_heir_and_move_household,\n",
    "                                                                    failure = behavior.inheritance.failed_inheritance_no_owner)\n",
    "\n",
    "birthrule = behavior.conception.BirthRule(marriedbirth = fertility,\n",
    "                                         unmarriedbirth = AgeTable.NullAgeTable(),\n",
    "                                         femalesexratio = .5,\n",
    "                                         maternaldeath = behavior.conception.maternal_death_zero,\n",
    "                                         infanticide = behavior.conception.infanticide_none)"
   ]
  },
  {
   "cell_type": "markdown",
   "metadata": {},
   "source": [
    "## Setup for a Mortality Crisis ##\n",
    "\n",
    "For a mortality crisis to be carried out, we need to first define the annual mortality rate. This an average across the entire population and it must be adjusted to account for all ages and household sizes. \n",
    "\n",
    "After an annual mortality rate is defined as `base_rate`, it is inserted into 3 lists of mortality rates for household sizes of 5 or less, 5 to 10, and more than 10. It is then increased by a multiplier to account for age ranges of 0 to 20, 20 to 60, and 60 to 100. \n",
    "\n",
    "Next, each list of mortality rates is placed within a corresponding `AgeTable` for each household size. Each `AgeTable` is then put into a list of Agetables called `plaguetab` which will be used as a parameter when defining a `MortalityCrisis` and be accessed by that `MortalityCrisis` when the it evaluates each `Person`.\n",
    "\n",
    "Various annual mortality rates have been derived at the end of this notebook."
   ]
  },
  {
   "cell_type": "code",
   "execution_count": 6,
   "metadata": {},
   "outputs": [],
   "source": [
    "base_rate = 0.0138 #base annual fatality rate, currently set to 1.38% to represent a densely populated urban environment\n",
    "\n",
    "rates_hsize_5orless = [base_rate*1.25, base_rate, base_rate*1.25]\n",
    "rates_hsize_5to10 = [(base_rate*1.5), base_rate*1.25, (base_rate*1.5)]\n",
    "rates_hsize_morethan10 = [base_rate*1.75,base_rate*1.5, base_rate*1.75]\n",
    "\n",
    "at_hsize_5orless = AgeTable(ages = [0,20,60,100],sex1 = female, rates1 = rates_hsize_5orless, sex2 = male, rates2 = rates_hsize_5orless)\n",
    "at_hsize_5to10 = AgeTable(ages = [0,20,60,100],sex1 = female, rates1 = rates_hsize_5to10, sex2 = male, rates2 = rates_hsize_5to10)\n",
    "at_hsize_morethan10 = AgeTable(ages = [0,20,60,100],sex1 = female, rates1 = rates_hsize_morethan10, sex2 = male, rates2 = rates_hsize_morethan10)\n",
    "\n",
    "plaguetab = [at_hsize_5orless, at_hsize_5to10, at_hsize_morethan10]"
   ]
  },
  {
   "cell_type": "markdown",
   "metadata": {},
   "source": [
    "## Simulation Run without Plague ##"
   ]
  },
  {
   "cell_type": "markdown",
   "metadata": {},
   "source": [
    "With all of these functions defined, we can now create the `World` of the simulation and our sole `Community`, Sweetwater."
   ]
  },
  {
   "cell_type": "code",
   "execution_count": 7,
   "metadata": {},
   "outputs": [],
   "source": [
    "start_pop = 100 #just a few people to start\n",
    "start_area = 4000 #lots of room for growth\n",
    "start_age = age_of_majority - 1 #so that everyone makes the transition to marriage eligibility on time\n",
    "pophistory = []\n",
    "\n",
    "rd.seed(3442) #Used here to standardize the example code across runs for any random parts like name generation.\n",
    "terra = World()\n",
    "sweetwater = Community(world = terra,\n",
    "                       name = 'Sweetwater',\n",
    "                       pop = start_pop,\n",
    "                       area = start_area,\n",
    "                       startage = start_age,\n",
    "                       mortab = mortality,\n",
    "                       birthtab = fertility,\n",
    "                       marriagerule = marriagerule,\n",
    "                       inheritancerule = inheritancerule,\n",
    "                       mobilityrule = mobilityrule,\n",
    "                       birthrule = birthrule)\n"
   ]
  },
  {
   "cell_type": "markdown",
   "metadata": {},
   "source": [
    "We can now run the simulation."
   ]
  },
  {
   "cell_type": "code",
   "execution_count": 8,
   "metadata": {},
   "outputs": [
    {
     "name": "stdout",
     "output_type": "stream",
     "text": [
      "Current year: 150\n",
      "Ending Population: 863\n"
     ]
    }
   ],
   "source": [
    "while terra.year < 150: #run for however many years\n",
    "    terra.progress()\n",
    "    pophistory.append(len(terra.people))\n",
    "print('Current year: '+ str(terra.year))\n",
    "print('Ending Population: ' + str(len(terra.people)))\n",
    "#print(pophistory)"
   ]
  },
  {
   "cell_type": "markdown",
   "metadata": {},
   "source": [
    "Here we can see population through time as well as variation in household types at the end of the simulation run."
   ]
  },
  {
   "cell_type": "code",
   "execution_count": 9,
   "metadata": {},
   "outputs": [
    {
     "name": "stdout",
     "output_type": "stream",
     "text": [
      "\n"
     ]
    },
    {
     "data": {
      "image/png": "[encoded data removed]",
      "text/plain": [
       "<Figure size 432x288 with 1 Axes>"
      ]
     },
     "metadata": {
      "needs_background": "light"
     },
     "output_type": "display_data"
    }
   ],
   "source": [
    "sns.countplot([residency.classify(h) for h in terra.houses if h.people != []], order = ['solitary','no-family','nuclear','extended','multiple'], palette = 'colorblind')\n",
    "plt.title('Laslett Typology of Households for all Occupied Houses')\n",
    "plt.xlabel('Household type (number of nuclear families)')\n",
    "print('')"
   ]
  },
  {
   "cell_type": "code",
   "execution_count": 10,
   "metadata": {},
   "outputs": [
    {
     "data": {
      "text/plain": [
       "[<matplotlib.lines.Line2D at 0x24a11707288>]"
      ]
     },
     "execution_count": 10,
     "metadata": {},
     "output_type": "execute_result"
    },
    {
     "data": {
      "image/png": "[encoded data removed]",
      "text/plain": [
       "<Figure size 432x288 with 1 Axes>"
      ]
     },
     "metadata": {
      "needs_background": "light"
     },
     "output_type": "display_data"
    }
   ],
   "source": [
    "x_years = list(range(terra.year))\n",
    "y_pop1 = pophistory\n",
    "plt.xlabel('Year')\n",
    "plt.ylabel('Population')\n",
    "plt.title('Total Population Through Time')\n",
    "plt.plot(x_years, y_pop1)"
   ]
  },
  {
   "cell_type": "markdown",
   "metadata": {},
   "source": [
    "We can also view births, marriages, and deaths through time."
   ]
  },
  {
   "cell_type": "code",
   "execution_count": 12,
   "metadata": {},
   "outputs": [
    {
     "name": "stdout",
     "output_type": "stream",
     "text": [
      "\n"
     ]
    },
    {
     "data": {
      "image/png": "[encoded data removed]",
      "text/plain": [
       "<Figure size 864x288 with 3 Axes>"
      ]
     },
     "metadata": {
      "needs_background": "light"
     },
     "output_type": "display_data"
    }
   ],
   "source": [
    "f, (ax1, ax2, ax3) = plt.subplots(1,3, figsize = (12,4))\n",
    "#sns.set_style(\"whitegrid\")\n",
    "sns.distplot([min(d.get_events().keys()) for d in terra.library['Person']], kde = False, bins = range(45), ax = ax1)\n",
    "ax1.set_title(\"Birth years of people\")\n",
    "#plt.subtitle(\"Third generation is normally distributed.\")\n",
    "ax1.set_xlabel(\"Year\")\n",
    "ax1.set_ylabel(\"# births per year\")\n",
    "\n",
    "sns.distplot([l.year for i in range(len(terra.library['Person'])) for x in terra.library['Person'][i].get_events().items() for l in x[1] if isinstance(l,narrative.MarriageEvent)]\n",
    "             , kde = False, bins = range(45), ax = ax2)\n",
    "ax2.set_title(\"Marriages\")\n",
    "#ax2.subtitle(\"Third generation is normally distributed.\")\n",
    "ax2.set_xlabel(\"Year\")\n",
    "ax2.set_ylabel(\"# marriages per year\")\n",
    "\n",
    "sns.distplot([l.year for i in range(len(terra.library['Person'])) for x in terra.library['Person'][i].get_events().items() for l in x[1] if isinstance(l,narrative.DeathEvent)],\n",
    "             kde = False, bins = range(45), ax = ax3)\n",
    "ax3.set_title(\"Deaths\")\n",
    "#ax2.subtitle(\"Third generation is normally distributed.\")\n",
    "ax3.set_xlabel(\"Year\")\n",
    "ax3.set_ylabel(\"# deaths per year\")\n",
    "\n",
    "\n",
    "print('')\n",
    "#plt.hist([min(d.get_events().keys()) for d in terra.library['Person']], bins = range(45))"
   ]
  },
  {
   "cell_type": "markdown",
   "metadata": {},
   "source": [
    "In addition to viewing the entire world, we can also use the tools in narrative to explore single individuals and their households."
   ]
  },
  {
   "cell_type": "code",
   "execution_count": 13,
   "metadata": {},
   "outputs": [],
   "source": [
    "#Run this first to pick a random house\n",
    "h = rd.choice([x for x in sweetwater.houses if len(x.people) >= 2])#pick a house with at least two people in it to make it interesting"
   ]
  },
  {
   "cell_type": "code",
   "execution_count": 14,
   "metadata": {},
   "outputs": [
    {
     "name": "stdout",
     "output_type": "stream",
     "text": [
      "The house at 57 Cactus Court contains a multiple household with 11 people residing owned by Logan (1.0 shares):\n",
      "Lawrence is a living man, 31 years old, married with 4 children\n",
      "Arnold is a living man, 25 years old, married with 4 children\n",
      "Ashley is a living woman, 29 years old, married with 4 children\n",
      "Maeve is a living woman, 7 years old, ineligible\n",
      "Maeve is a living woman, 4 years old, ineligible\n",
      "Jasmyn is a living woman, 24 years old, married with 4 children\n",
      "Theresa is a living woman, 3 years old, ineligible\n",
      "Lawrence is a living man, 3 years old, ineligible\n",
      "Ashley is a living woman, 2 years old, ineligible\n",
      "Elsie is a living woman, 1 year old, ineligible\n",
      "Lawrence is a living man, 0 years old, ineligible\n",
      " \n"
     ]
    }
   ],
   "source": [
    "#Now run this to see the output\n",
    "print('The house at ' + h.address + ' contains ' + narrative.census(h)+':')\n",
    "for x in h.people:\n",
    "    print(narrative.biography(x)) \n",
    "print(' ')\n"
   ]
  },
  {
   "cell_type": "code",
   "execution_count": 15,
   "metadata": {},
   "outputs": [
    {
     "name": "stdout",
     "output_type": "stream",
     "text": [
      "27 Tavern Trail: a multiple household with 8 people residing owned by Lawrence (1.0 shares)\n",
      "Lawrence is a dead man, 4 years old, ineligible\n",
      "Clementine is a living woman, 49 years old, widowed with 8 children\n",
      "False\n",
      "False\n",
      "Robert is a living man, 28 years old, married with 3 children\n",
      "False\n",
      "False\n",
      "Arnold is a living man, 27 years old, married with no children\n",
      "False\n",
      "False\n",
      "Theresa is a living woman, 37 years old, widowed with one child\n",
      "False\n",
      "False\n",
      "Dolores is a living woman, 49 years old, married with 5 children\n",
      "False\n",
      "False\n",
      "Dolores is a living woman, 23 years old, married with 3 children\n",
      "False\n",
      "False\n",
      "Bernard is a living man, 2 years old, ineligible\n",
      "False\n",
      "False\n",
      "Charlotte is a living woman, 0 years old, ineligible\n",
      "False\n",
      "False\n"
     ]
    }
   ],
   "source": [
    "#Here is some space to explore the currently selected household, if you want.\n",
    "\n",
    "strange = [h for h in terra.houses if len([p for p in h.people if p in h.get_owners()]) == 0 and len(h.people) > 0]\n",
    "i = 0\n",
    "print(strange[i].address + ': ' + narrative.census( strange[i]))\n",
    "o = strange[i].get_owners()[0]\n",
    "print(narrative.biography(o))\n",
    "#who lives there?\n",
    "for p in strange[i].people:\n",
    "    print(narrative.biography(p))\n",
    "    print(p in kinship.get_siblings(o))\n",
    "    print(p in kinship.get_children(o))\n"
   ]
  },
  {
   "cell_type": "code",
   "execution_count": 16,
   "metadata": {},
   "outputs": [
    {
     "name": "stdout",
     "output_type": "stream",
     "text": [
      "['Year 135: Lawrence was born at 27 Tavern Trail, Sweetwater', 'Year 135: Lawrence moved into 27 Tavern Trail, Sweetwater', 'Year 140: Lawrence died at 27 Tavern Trail, Sweetwater', 'Year 140: Lawrence left 27 Tavern Trail, Sweetwater']\n"
     ]
    }
   ],
   "source": [
    "f = [p for p in kinship.get_parents(o) if p.sex == identity.male][0]\n",
    "\n",
    "print([e.summary() for l in o.diary.get_events().items() for e in l[1] if e.house is not None]) # "
   ]
  },
  {
   "cell_type": "markdown",
   "metadata": {},
   "source": [
    "## Simulation Run with Plague ##"
   ]
  },
  {
   "cell_type": "markdown",
   "metadata": {},
   "source": [
    "All parameters are the same as the previous simulation with the addition of a plague mortality crisis."
   ]
  },
  {
   "cell_type": "code",
   "execution_count": 17,
   "metadata": {},
   "outputs": [],
   "source": [
    "start_pop = 100 #just a few people to start\n",
    "start_area = 4000 #lots of room for growth\n",
    "start_age = age_of_majority - 1 #so that everyone makes the transition to marriage eligibility on time\n",
    "plague = MortalityCrisis(75, 10, plaguetab) #create a plague to enact upon simulation at year 75 for 10 time steps\n",
    "pop_each_year = []\n",
    "\n",
    "rd.seed(3442) #Used here to standardize the example code across runs for any random parts like name generation.\n",
    "terra = World()\n",
    "sweetwater = Community(world = terra,\n",
    "                       name = 'Sweetwater',\n",
    "                       pop = start_pop,\n",
    "                       area = start_area,\n",
    "                       startage = start_age,\n",
    "                       mortab = mortality,\n",
    "                       birthtab = fertility,\n",
    "                       marriagerule = marriagerule,\n",
    "                       inheritancerule = inheritancerule,\n",
    "                       mobilityrule = mobilityrule,\n",
    "                       birthrule = birthrule)\n"
   ]
  },
  {
   "cell_type": "markdown",
   "metadata": {},
   "source": [
    "We can now run the simulation."
   ]
  },
  {
   "cell_type": "code",
   "execution_count": 18,
   "metadata": {},
   "outputs": [
    {
     "name": "stdout",
     "output_type": "stream",
     "text": [
      "Current year: 150\n",
      "Number killed by plague: 92\n",
      "Ending Population: 681\n"
     ]
    }
   ],
   "source": [
    "\n",
    "while terra.year < 150: #run for however many years\n",
    "    plague(terra) #place plague within simulation\n",
    "    terra.progress()\n",
    "    pop_each_year.append(len(terra.people))\n",
    "print('Current year: '+ str(terra.year))\n",
    "print('Number killed by plague: ' + str(len(plague.killedbyplague)))\n",
    "print('Ending Population: ' + str(len(terra.people)))\n",
    "#print(pop_each_year_base)"
   ]
  },
  {
   "cell_type": "markdown",
   "metadata": {},
   "source": [
    "Here we can see population through time as well as variation in household types at the end of the simulation run."
   ]
  },
  {
   "cell_type": "code",
   "execution_count": 19,
   "metadata": {
    "scrolled": true
   },
   "outputs": [
    {
     "name": "stdout",
     "output_type": "stream",
     "text": [
      "\n"
     ]
    },
    {
     "data": {
      "image/png": "[encoded data removed]",
      "text/plain": [
       "<Figure size 432x288 with 1 Axes>"
      ]
     },
     "metadata": {
      "needs_background": "light"
     },
     "output_type": "display_data"
    }
   ],
   "source": [
    "sns.countplot([residency.classify(h) for h in terra.houses if h.people != []], order = ['solitary','no-family','nuclear','extended','multiple'], palette = 'colorblind')\n",
    "plt.title('Laslett Typology of Households for all Occupied Houses')\n",
    "plt.xlabel('Household type (number of nuclear families)')\n",
    "print('')"
   ]
  },
  {
   "cell_type": "code",
   "execution_count": 20,
   "metadata": {},
   "outputs": [
    {
     "data": {
      "text/plain": [
       "[<matplotlib.lines.Line2D at 0x24a1182e588>]"
      ]
     },
     "execution_count": 20,
     "metadata": {},
     "output_type": "execute_result"
    },
    {
     "data": {
      "image/png": "[encoded data removed]",
      "text/plain": [
       "<Figure size 432x288 with 1 Axes>"
      ]
     },
     "metadata": {
      "needs_background": "light"
     },
     "output_type": "display_data"
    }
   ],
   "source": [
    "x_years = list(range(terra.year))\n",
    "y_pop1 = pop_each_year\n",
    "plt.xlabel('Year')\n",
    "plt.ylabel('Population')\n",
    "plt.title('Total Population Through Time')\n",
    "plt.plot(x_years, y_pop1)"
   ]
  },
  {
   "cell_type": "markdown",
   "metadata": {},
   "source": [
    "We can also view births, marriages, and deaths through time."
   ]
  },
  {
   "cell_type": "code",
   "execution_count": 21,
   "metadata": {},
   "outputs": [
    {
     "name": "stdout",
     "output_type": "stream",
     "text": [
      "\n"
     ]
    },
    {
     "data": {
      "image/png": "[encoded data removed]",
      "text/plain": [
       "<Figure size 864x288 with 3 Axes>"
      ]
     },
     "metadata": {
      "needs_background": "light"
     },
     "output_type": "display_data"
    }
   ],
   "source": [
    "f, (ax1, ax2, ax3) = plt.subplots(1,3, figsize = (12,4))\n",
    "#sns.set_style(\"whitegrid\")\n",
    "sns.distplot([min(d.get_events().keys()) for d in terra.library['Person']], kde = False, bins = range(terra.year+2), ax = ax1)\n",
    "ax1.set_title(\"Birth years of people\")\n",
    "#plt.subtitle(\"Third generation is normally distributed.\")\n",
    "ax1.set_xlabel(\"Year\")\n",
    "ax1.set_ylabel(\"# births per year\")\n",
    "\n",
    "sns.distplot([l.year for i in range(len(terra.library['Person'])) for x in terra.library['Person'][i].get_events().items() for l in x[1] if isinstance(l,narrative.MarriageEvent)]\n",
    "             , kde = False, bins = range(terra.year+2), ax = ax2)\n",
    "ax2.set_title(\"Marriages\")\n",
    "#ax2.subtitle(\"Third generation is normally distributed.\")\n",
    "ax2.set_xlabel(\"Year\")\n",
    "ax2.set_ylabel(\"# marriages per year\")\n",
    "\n",
    "sns.distplot([l.year for i in range(len(terra.library['Person'])) for x in terra.library['Person'][i].get_events().items() for l in x[1] if terra.library['Person'][i].associated not in plague.killedbyplague and isinstance(l,narrative.DeathEvent)],\n",
    "             kde = False, bins = range(terra.year+2), ax = ax3)\n",
    "sns.distplot([l.year for i in range(len(terra.library['Person'])) for x in terra.library['Person'][i].get_events().items() for l in x[1] if terra.library['Person'][i].associated in plague.killedbyplague and isinstance(l,narrative.DeathEvent)],\n",
    "             kde = False, bins = range(terra.year+2), ax = ax3)\n",
    "ax3.set_title(\"Deaths\")\n",
    "#ax2.subtitle(\"Third generation is normally distributed.\")\n",
    "ax3.set_xlabel(\"Year\")\n",
    "ax3.set_ylabel(\"# deaths per year\")\n",
    "\n",
    "\n",
    "print('')"
   ]
  },
  {
   "cell_type": "markdown",
   "metadata": {},
   "source": [
    "In addition to viewing the entire world, we can also use the tools in narrative to explore single individuals and their households."
   ]
  },
  {
   "cell_type": "code",
   "execution_count": 22,
   "metadata": {},
   "outputs": [],
   "source": [
    "#Run this first to pick a random house\n",
    "h = rd.choice([x for x in sweetwater.houses if len(x.people) >= 2])#pick a house with at least two people in it to make it interesting"
   ]
  },
  {
   "cell_type": "code",
   "execution_count": 23,
   "metadata": {},
   "outputs": [
    {
     "name": "stdout",
     "output_type": "stream",
     "text": [
      "The house at 27 Cattle Drive contains a nuclear household with 7 people residing owned by Lee (1.0 shares):\n",
      "Lee is a living man, 35 years old, married with 6 children\n",
      "Maeve is a living woman, 29 years old, married with 6 children\n",
      "Bernard is a living man, 9 years old, ineligible\n",
      "Lee is a living man, 8 years old, ineligible\n",
      "Ashley is a living woman, 5 years old, ineligible\n",
      "Emily is a living woman, 2 years old, ineligible\n",
      "Maeve is a living woman, 1 year old, ineligible\n",
      " \n"
     ]
    }
   ],
   "source": [
    "#Now run this to see the output\n",
    "print('The house at ' + h.address + ' contains ' + narrative.census(h)+':')\n",
    "for x in h.people:\n",
    "    print(narrative.biography(x)) \n",
    "print(' ')"
   ]
  },
  {
   "cell_type": "code",
   "execution_count": 24,
   "metadata": {},
   "outputs": [
    {
     "name": "stdout",
     "output_type": "stream",
     "text": [
      "47 Main Street: a nuclear household with 8 people residing owned by Teddy (1.0 shares)\n",
      "Teddy is a living man, 54 years old, married with 8 children\n",
      "Charlotte is a living woman, 29 years old, widowed with 5 children\n",
      "False\n",
      "False\n",
      "Lawrence is a living man, 8 years old, ineligible\n",
      "False\n",
      "False\n",
      "William is a living man, 5 years old, ineligible\n",
      "False\n",
      "False\n",
      "Robert is a living man, 32 years old, married with 8 children\n",
      "False\n",
      "True\n",
      "Armistice is a living woman, 30 years old, married with 8 children\n",
      "False\n",
      "False\n",
      "Hector is a living man, 5 years old, ineligible\n",
      "False\n",
      "False\n",
      "Maeve is a living woman, 3 years old, ineligible\n",
      "False\n",
      "False\n",
      "Elsie is a living woman, 2 years old, ineligible\n",
      "False\n",
      "False\n"
     ]
    }
   ],
   "source": [
    "#Here is some space to explore the currently selected household, if you want.\n",
    "\n",
    "strange = [h for h in terra.houses if len([p for p in h.people if p in h.get_owners()]) == 0 and len(h.people) > 0]\n",
    "i = 0\n",
    "print(strange[i].address + ': ' + narrative.census( strange[i]))\n",
    "o = strange[i].get_owners()[0]\n",
    "print(narrative.biography(o))\n",
    "#who lives there?\n",
    "for p in strange[i].people:\n",
    "    print(narrative.biography(p))\n",
    "    print(p in kinship.get_siblings(o))\n",
    "    print(p in kinship.get_children(o))\n"
   ]
  },
  {
   "cell_type": "code",
   "execution_count": 25,
   "metadata": {},
   "outputs": [
    {
     "name": "stdout",
     "output_type": "stream",
     "text": [
      "['Year 95: Teddy was born at 55 Cactus Court, Sweetwater', 'Year 95: Teddy moved into 55 Cactus Court, Sweetwater', 'Year 116: Teddy married Clementine at 55 Cactus Court, Sweetwater', 'Year 145: Teddy left 55 Cactus Court, Sweetwater', 'Year 145: Teddy left 47 Main Street, Sweetwater']\n"
     ]
    }
   ],
   "source": [
    "f = [p for p in kinship.get_parents(o) if p.sex == identity.male][0]\n",
    "\n",
    "print([e.summary() for l in o.diary.get_events().items() for e in l[1] if e.house is not None]) # "
   ]
  },
  {
   "cell_type": "markdown",
   "metadata": {},
   "source": [
    "## Multiple Simulation Runs with Varying Seeds and Durations ##"
   ]
  },
  {
   "cell_type": "code",
   "execution_count": 26,
   "metadata": {},
   "outputs": [
    {
     "name": "stdout",
     "output_type": "stream",
     "text": [
      "[44, 21, 41, 77, 34, 83, 108, 44, 115]\n"
     ]
    }
   ],
   "source": [
    "killednum = []\n",
    "durations = [5,10,15] #define list of durations to be used for each seed, simulation runtime increases heavily as list increases in length\n",
    "seeds = [123, 456, 789] #define list of desired seeds to be iterated through\n",
    "\n",
    "for d in durations: \n",
    "    for s in seeds:\n",
    "\n",
    "        start_pop = 100 #just a few people to start\n",
    "        start_area = 2000 #lots of room for growth\n",
    "        start_age = age_of_majority - 1 #so that everyone makes the transition to marriage eligibility on time\n",
    "        plague = MortalityCrisis(75, d, plaguetab) #create a plague to enact upon simulation at year 75 for d time steps\n",
    "\n",
    "        rd.seed(s) #Used here to standardize the example code across runs for any random parts like name generation.\n",
    "        terra = World()\n",
    "        sweetwater = Community(world = terra,\n",
    "                               name = 'Sweetwater',\n",
    "                               pop = start_pop,\n",
    "                               area = start_area,\n",
    "                               startage = start_age,\n",
    "                               mortab = mortality,\n",
    "                               birthtab = fertility,\n",
    "                               marriagerule = marriagerule,\n",
    "                               inheritancerule = inheritancerule,\n",
    "                               mobilityrule = mobilityrule,\n",
    "                               birthrule = birthrule)\n",
    "        while terra.year < 100: #run for however many years\n",
    "            plague(terra) #place plague within simulation\n",
    "            terra.progress()\n",
    "        #write some history\n",
    "        killednum.append(len(plague.killedbyplague))\n",
    "print(killednum)\n"
   ]
  },
  {
   "cell_type": "markdown",
   "metadata": {},
   "source": [
    "## Multiple Simulation Runs with Varying Annual Death Rates ##"
   ]
  },
  {
   "cell_type": "code",
   "execution_count": 27,
   "metadata": {},
   "outputs": [
    {
     "name": "stdout",
     "output_type": "stream",
     "text": [
      "150\n"
     ]
    }
   ],
   "source": [
    "pop_hist = [] #list of lists of population through time data for each simulation run\n",
    "annual_rates = [0.0072, 0.0083, 0.0094, 0.0105, 0.0138, 0.0149, 0.0161] #annual death rates derived from\n",
    "\n",
    "for r in annual_rates:\n",
    "    br = r #base annual fatality rate from annual_rates\n",
    "    \n",
    "    rates_hsize_5orless = [br*1.25, br, br*1.25]\n",
    "    rates_hsize_5to10 = [(br*1.5), br*1.25, (br*1.5)]\n",
    "    rates_hsize_morethan10 = [br*1.75,br*1.5, br*1.75]\n",
    "\n",
    "    at_hsize_5orless = AgeTable(ages = [0,20,60,100],sex1 = female, rates1 = rates_hsize_5orless, sex2 = male, rates2 = rates_hsize_5orless)\n",
    "    at_hsize_5to10 = AgeTable(ages = [0,20,60,100],sex1 = female, rates1 = rates_hsize_5to10, sex2 = male, rates2 = rates_hsize_5to10)\n",
    "    at_hsize_morethan10 = AgeTable(ages = [0,20,60,100],sex1 = female, rates1 = rates_hsize_morethan10, sex2 = male, rates2 = rates_hsize_morethan10)\n",
    "\n",
    "    plaguetab = [at_hsize_5orless, at_hsize_5to10, at_hsize_morethan10]\n",
    "    \n",
    "    start_pop = 100 #just a few people to start\n",
    "    start_area = 4000 #lots of room for growth\n",
    "    start_age = age_of_majority - 1 #so that everyone makes the transition to marriage eligibility on time\n",
    "    plague = MortalityCrisis(75, 10, plaguetab) #create a plague to enact upon simulation at year 75 for 10 time steps\n",
    "    pop_each_year = []\n",
    "\n",
    "    rd.seed(6788) #Used here to standardize the example code across runs for any random parts like name generation.\n",
    "    terra = World()\n",
    "    sweetwater = Community(world = terra,\n",
    "                           name = 'Sweetwater',\n",
    "                           pop = start_pop,\n",
    "                           area = start_area,\n",
    "                           startage = start_age,\n",
    "                           mortab = mortality,\n",
    "                           birthtab = fertility,\n",
    "                           marriagerule = marriagerule,\n",
    "                           inheritancerule = inheritancerule,\n",
    "                           mobilityrule = mobilityrule,\n",
    "                           birthrule = birthrule)\n",
    "    while terra.year < 150: #run for 140 years\n",
    "        plague(terra) #place plague within simulation\n",
    "        terra.progress()\n",
    "        pop_each_year.append(len(terra.people)) #create data for population over time\n",
    "    pop_hist.append(pop_each_year) #add data for population over time to pop_hist\n",
    "#print(pop_hist)\n",
    "print(terra.year)\n"
   ]
  },
  {
   "cell_type": "markdown",
   "metadata": {},
   "source": [
    "Population through time for all simulation runs"
   ]
  },
  {
   "cell_type": "code",
   "execution_count": 28,
   "metadata": {
    "scrolled": true
   },
   "outputs": [
    {
     "data": {
      "text/plain": [
       "<matplotlib.legend.Legend at 0x24a13d55dc8>"
      ]
     },
     "execution_count": 28,
     "metadata": {},
     "output_type": "execute_result"
    },
    {
     "data": {
      "image/png": "[encoded data removed]",
      "text/plain": [
       "<Figure size 432x288 with 1 Axes>"
      ]
     },
     "metadata": {
      "needs_background": "light"
     },
     "output_type": "display_data"
    }
   ],
   "source": [
    "\n",
    "annual_rates_percent = ['0.72%', '0.83%', '0.94%', '1.05%', '1.38%', '1.49%', '1.61%']\n",
    "x_years = list(range(terra.year))\n",
    "plt.xlabel('Simulation Year')\n",
    "plt.ylabel('Population')\n",
    "plt.title('Total Population Through Time')\n",
    "\n",
    "#plot population through time for each annual death rate\n",
    "for i in range(len(pop_hist)):\n",
    "    plt.plot(x_years, pop_hist[i], label = annual_rates_percent[i])\n",
    "\n",
    "#Create list of values for pre-plague population line\n",
    "y_pre_plague_pop = []\n",
    "for i in range(terra.year):\n",
    "   y_pre_plague_pop.append(pop_hist[0][plague.startyear-1])\n",
    "plt.plot(x_years, y_pre_plague_pop, label = 'Pre-Plague Population', color = 'red', linestyle = '--')\n",
    "    \n",
    "#Data point of start of plague\n",
    "plt.plot([plague.startyear], pop_hist[0][plague.startyear-1], marker = 'o', markersize = 8, color = 'black')\n",
    "\n",
    "plt.legend(title = 'Annual Death Rate')\n"
   ]
  },
  {
   "cell_type": "markdown",
   "metadata": {},
   "source": [
    "## Estimated Average Annual Death Rates for the Antonine Plague\n",
    "\n",
    "Total fatality rates taken from:\n",
    "\n",
    "Littman, R. J., and M. L. Littman. 1973. “Galen and the Antonine Plague.” The American Journal of Philology 94 (3): 243–55. https://doi.org/10.2307/293979.\n",
    "\n",
    "\n",
    "Total Fatality Rate for Entire Empire: 7-10%\n",
    "    \n",
    "    7% - Avg Annual rate: 0.0072\n",
    "    8% - Avg Annual rate: 0.0083\n",
    "    9% - Avg Annual rate: 0.0094\n",
    "    10% - Avg Annual rate: 0.0105\n",
    "\n",
    "Total Fatality Rate for Entire Plague for Cities & Armies: 13-15%\n",
    "    \n",
    "    13% - Avg Annual rate: 0.0138\n",
    "    14% - Avg Annual rate: 0.0149\n",
    "    15% - Avg Annual rate: 0.0161\n"
   ]
  },
  {
   "cell_type": "markdown",
   "metadata": {},
   "source": [
    "Calculations for Annual Death Rates"
   ]
  },
  {
   "cell_type": "code",
   "execution_count": 29,
   "metadata": {},
   "outputs": [
    {
     "name": "stdout",
     "output_type": "stream",
     "text": [
      "0.007230800339783072\n"
     ]
    }
   ],
   "source": [
    "k = .07 #killed\n",
    "nk = 1 - k #not killed\n",
    "y = 10 #years\n",
    "p = (nk) ** (1./y)\n",
    "print(1-p)"
   ]
  },
  {
   "cell_type": "code",
   "execution_count": 30,
   "metadata": {},
   "outputs": [],
   "source": [
    "#misc\n",
    "#individual households over time\n",
    "#number of different households at different population levels"
   ]
  }
 ],
 "metadata": {
  "kernelspec": {
   "display_name": "Python 3",
   "language": "python",
   "name": "python3"
  },
  "language_info": {
   "codemirror_mode": {
    "name": "ipython",
    "version": 3
   },
   "file_extension": ".py",
   "mimetype": "text/x-python",
   "name": "python",
   "nbconvert_exporter": "python",
   "pygments_lexer": "ipython3",
   "version": "3.7.6"
  }
 },
 "nbformat": 4,
 "nbformat_minor": 4
}
