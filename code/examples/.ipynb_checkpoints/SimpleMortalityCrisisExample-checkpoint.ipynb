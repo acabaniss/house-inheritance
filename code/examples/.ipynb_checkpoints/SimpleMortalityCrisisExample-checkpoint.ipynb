{
 "cells": [
  {
   "cell_type": "markdown",
   "metadata": {},
   "source": [
    "# A Simple Deterministic Example with a Mortality Crisis"
   ]
  },
  {
   "cell_type": "code",
   "execution_count": 5,
   "metadata": {},
   "outputs": [],
   "source": [
    "import os\n",
    "os.chdir('..')\n",
    "from households import *\n",
    "import pandas\n",
    "import matplotlib.pyplot as plt\n",
    "import seaborn as sns\n",
    "import random as rd"
   ]
  },
  {
   "cell_type": "code",
   "execution_count": 6,
   "metadata": {},
   "outputs": [],
   "source": [
    "from households import *"
   ]
  },
  {
   "cell_type": "code",
   "execution_count": 14,
   "metadata": {},
   "outputs": [
    {
     "ename": "SyntaxError",
     "evalue": "invalid syntax (<ipython-input-14-d461065eb9ab>, line 28)",
     "output_type": "error",
     "traceback": [
      "\u001b[1;36m  File \u001b[1;32m\"<ipython-input-14-d461065eb9ab>\"\u001b[1;36m, line \u001b[1;32m28\u001b[0m\n\u001b[1;33m    r = person.removaltab.get_rate(no sex?, person.age)\u001b[0m\n\u001b[1;37m                                        ^\u001b[0m\n\u001b[1;31mSyntaxError\u001b[0m\u001b[1;31m:\u001b[0m invalid syntax\n"
     ]
    }
   ],
   "source": [
    "class MortalityCrisis(object):\n",
    "    \"\"\" A simulation-wide population crisis event with customizable start year, duration, and removal probabilities.\n",
    "    \n",
    "    When called, takes world as an argument and iterates through all community and household objects, \n",
    "    deciding for each person object whether or not they will be removed from the simulation whiling recording number of \n",
    "    removed and changes in household structure across each time step of the event.\n",
    "    \n",
    "    Parameters\n",
    "    ----------\n",
    "    startyear: int\n",
    "        defines starting year of crisis\n",
    "    duration: int\n",
    "        defines lenth and subsequent ending year of crisis\n",
    "    plaguetab: list\n",
    "        list of agetables for determining probability of removal based on household size\n",
    "    \"\"\"\n",
    "    def __init__(self, startyear, endyear, plaguetab):\n",
    "        self.startyear = startyear\n",
    "        self.duration = duration\n",
    "        if isinstance(plaguetab, AgeTable) == False:\n",
    "           raise TypeError('plaguetab not of type AgeTable')\n",
    "        self.plaguetab = plaguetab\n",
    "    \n",
    "    def __call__(self, world):\n",
    "        if terra.year < plague.startyear or terra.year > plague.startyear + plague.duration:\n",
    "            pass\n",
    "        else:\n",
    "            for community in world.communities:\n",
    "                for house in community.houses:\n",
    "                    for person in house.people:\n",
    "                        if len(house.people) <= 5:\n",
    "                            r = self.plaguetab[0].get_rate(person.sex, person.age)\n",
    "                        if 5 < len(house.people) <=10:\n",
    "                            r = self.plaguetab[1].get_rate(person.sex, person.age)\n",
    "                        if len(house.people) > 10:\n",
    "                             r = self.plaguetab[2].get_rate(person.sex, person.age)\n",
    "                        if len(house.people) == # would I use 0 or None?:\n",
    "                            \n",
    "                        if r>= rd.random():\n",
    "                            \n",
    "                        #relevant operations to remove person and record data\n",
    "            \n",
    "            "
   ]
  },
  {
   "cell_type": "code",
   "execution_count": null,
   "metadata": {},
   "outputs": [],
   "source": [
    "age_of_majority = 19\n",
    "eligibility = AgeTable(ages = [0,age_of_majority,100], sex1 = female, rates1 = [0,1], sex2 = male, rates2 = [0,1])\n",
    "fertility = AgeTable(ages = [0,age_of_majority,age_of_majority+5,100], sex1 = female, rates1 = [0,1,0], sex2 = male, rates2 = [0,0,0])\n",
    "mortality = AgeTable(ages=[0,60,100],sex1 = male, rates1 = [0,1], sex2 = female, rates2 = [0,1])\n",
    "remarriage = AgeTable.NullAgeTable()\n",
    "plaguetab = [housesize_5orless = AgeTable(ages = [0,20,50,100],sex1 = female, rates1 = [0.2,0.1,0.2], sex2 = male, rates2 = [0.2,0.1,0.2]), \n",
    "             housesize_5to10 = AgeTable(ages = [0,20,50,100],sex1 = female, rates1 = [0.3,0.15,0.3], sex2 = male, rates2 = [0.3,0.15,0.3]),\n",
    "             housesize_morethan10 = AgeTable(ages = [0,20,50,100],sex1 = female, rates1 = [0.4,0.2,0.4], sex2 = male, rates2 = [0.4,0.2,0.4])]"
   ]
  },
  {
   "cell_type": "code",
   "execution_count": null,
   "metadata": {},
   "outputs": [],
   "source": [
    "#The MarriageRule\n",
    "marriagerule = behavior.marriage.MarriageRule(eligibility_agetable = eligibility, #defined above\n",
    "                                              get_eligible = behavior.marriage.get_eligible_not_sibling_same_community,\n",
    "                                              #find all single individuals in the village who aren't siblings\n",
    "                                              pick_spouse = behavior.marriage.pick_spouse_random, #pick a random spouse\n",
    "                                              locality = behavior.marriage.locality_patrilocality, #patrilocality\n",
    "                                              remarriage_agetable = remarriage #defined above\n",
    "                                             )\n",
    "\n",
    "#The MobilityRule\n",
    "def check_household_nonowner_adult_man_overcrowded(person):\n",
    "    \"\"\"Check that the household is overcrowded and that this person is not the owner and an adult.\"\"\"\n",
    "    overcrowded = behavior.mobility.check_household_overcrowded(person) #check overcrowding but also assert\n",
    "    ## that there is indeed a house to check\n",
    "    if overcrowded:\n",
    "        if person.age >= age_of_majority and person not in person.has_house.get_owners() and person.sex == identity.male:\n",
    "            #If above or at the age of majority and the person is a man who is not the owner of the house they live in\n",
    "            return True\n",
    "    return False\n",
    "\n",
    "mobilityrule = behavior.mobility.MobilityRule(check_household = check_household_nonowner_adult_man_overcrowded,\n",
    "                                                   who_leaves_house = behavior.mobility.who_leaves_house_family,\n",
    "                                                   destination = behavior.mobility.destination_random_house_same_village)\n",
    "#The InheritanceRule\n",
    "#Our custom function to check sons then brothers' sons;\n",
    "## note the use of lambda to make find_heirs_siblings_children into a single parameter function in order to define\n",
    "## the sex as male.\n",
    "find_heirs_sons_then_brothers_sons = behavior.inheritance.find_heirs_multiple_constructor(behavior.inheritance.find_heirs_sons_oldest_to_youngest,\n",
    "                                                     lambda p: behavior.inheritance.find_heirs_siblings_children_oldest_to_youngest(p,sex = identity.male))\n",
    "\n",
    "\n",
    "inheritancerule = behavior.inheritance.InheritanceRuleComplex(has_property = behavior.inheritance.has_property_houses,\n",
    "                                                                    find_heirs = find_heirs_sons_then_brothers_sons,\n",
    "                                                                    limit_heirs = behavior.inheritance.limit_heirs_not_owners,\n",
    "                                                                    distribute_property = behavior.inheritance.distribute_property_to_first_heir_and_move_household,\n",
    "                                                                    failure = behavior.inheritance.failed_inheritance_no_owner)\n",
    "\n",
    "birthrule = behavior.conception.BirthRule(marriedbirth = fertility,\n",
    "                                         unmarriedbirth = AgeTable.NullAgeTable(),\n",
    "                                         femalesexratio = .5,\n",
    "                                         maternaldeath = behavior.conception.maternal_death_zero,\n",
    "                                         infanticide = behavior.conception.infanticide_none)"
   ]
  },
  {
   "cell_type": "code",
   "execution_count": null,
   "metadata": {},
   "outputs": [],
   "source": [
    "start_pop = 100 #just a few people to start\n",
    "start_area = 200 #lots of room for growth\n",
    "start_age = age_of_majority - 1 #so that everyone makes the transition to marriage eligibility on time\n",
    "plague = MortalityCrisis(15, 5, plaguetab)\n",
    "\n",
    "rd.seed(1237) #Used here to standardize the example code across runs for any random parts like name generation.\n",
    "terra = World()\n",
    "sweetwater = Community(world = terra,\n",
    "                       name = 'Sweetwater',\n",
    "                       pop = start_pop,\n",
    "                       area = start_area,\n",
    "                       startage = start_age,\n",
    "                       mortab = mortality,\n",
    "                       birthtab = fertility,\n",
    "                       marriagerule = marriagerule,\n",
    "                       inheritancerule = inheritancerule,\n",
    "                       mobilityrule = mobilityrule,\n",
    "                       birthrule = birthrule)\n"
   ]
  },
  {
   "cell_type": "code",
   "execution_count": null,
   "metadata": {},
   "outputs": [],
   "source": [
    "while terra.year < 43: #run for 42 years\n",
    "    plague(terra)\n",
    "    terra.progress()\n",
    "    \n",
    "print(terra.year)"
   ]
  },
  {
   "cell_type": "code",
   "execution_count": null,
   "metadata": {},
   "outputs": [],
   "source": []
  }
 ],
 "metadata": {
  "kernelspec": {
   "display_name": "Python 3",
   "language": "python",
   "name": "python3"
  },
  "language_info": {
   "codemirror_mode": {
    "name": "ipython",
    "version": 3
   },
   "file_extension": ".py",
   "mimetype": "text/x-python",
   "name": "python",
   "nbconvert_exporter": "python",
   "pygments_lexer": "ipython3",
   "version": "3.7.6"
  }
 },
 "nbformat": 4,
 "nbformat_minor": 4
}
