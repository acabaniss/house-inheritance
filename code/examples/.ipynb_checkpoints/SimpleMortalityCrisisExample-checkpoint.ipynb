{
 "cells": [
  {
   "cell_type": "markdown",
   "metadata": {},
   "source": [
    "# A Simple Example with a Mortality Crisis"
   ]
  },
  {
   "cell_type": "code",
   "execution_count": 5,
   "metadata": {},
   "outputs": [],
   "source": [
    "import os\n",
    "os.chdir('..')\n",
    "from households import *\n",
    "import pandas\n",
    "import matplotlib.pyplot as plt\n",
    "import seaborn as sns\n",
    "import random as rd"
   ]
  },
  {
   "cell_type": "code",
   "execution_count": 6,
   "metadata": {},
   "outputs": [],
   "source": [
    "from households import *"
   ]
  },
  {
   "cell_type": "code",
   "execution_count": 13,
   "metadata": {},
   "outputs": [],
   "source": [
    "class MortalityCrisis(object):\n",
    "    \"\"\" A simulation-wide population crisis event with customizable start year, duration, and removal probabilities.\n",
    "    \n",
    "    When called, takes world as an argument and iterates through all community and household objects, \n",
    "    deciding for each person object whether or not they will be removed from the simulation whiling recording number of removed\n",
    "    and changes in household structure across each time step of the event.\n",
    "    \n",
    "    Parameters\n",
    "    ----------\n",
    "    startyear: int\n",
    "        defines starting year of crisis\n",
    "    duration: int\n",
    "        defines lenth and subsequent ending year of crisis\n",
    "    plaguetab: list\n",
    "        mortality agetable for determining probability of removal\n",
    "    \"\"\"\n",
    "    def __init__(self, startyear, endyear, removaltab):\n",
    "        self.startyear = startyear\n",
    "        self.duration = duration\n",
    "        if isinstance(plaguetab, AgeTable) == False:\n",
    "           raise TypeError('removaltab not of type AgeTable')\n",
    "        self.removaltab = removaltab\n",
    "    \n",
    "    def __call__(self, world):\n",
    "        for community in world.communities:\n",
    "            for house in community.houses:\n",
    "                for person in house.people:\n",
    "                    r = person.removaltab.get_rate(no sex?, person.age)\n",
    "                    if r>= rd.random():\n",
    "                        #relevant operations to remove person and record data\n",
    "            \n",
    "            "
   ]
  },
  {
   "cell_type": "code",
   "execution_count": null,
   "metadata": {},
   "outputs": [],
   "source": [
    "while terra.year < 43: #run for 42 years\n",
    "    if terra.year >= plague.startyear and terra.year <= plague.startyear + plague.duration:\n",
    "        plague(terra)\n",
    "    terra.progress()\n",
    "    \n",
    "print(terra.year)"
   ]
  }
 ],
 "metadata": {
  "kernelspec": {
   "display_name": "Python 3",
   "language": "python",
   "name": "python3"
  },
  "language_info": {
   "codemirror_mode": {
    "name": "ipython",
    "version": 3
   },
   "file_extension": ".py",
   "mimetype": "text/x-python",
   "name": "python",
   "nbconvert_exporter": "python",
   "pygments_lexer": "ipython3",
   "version": "3.7.6"
  }
 },
 "nbformat": 4,
 "nbformat_minor": 4
}
