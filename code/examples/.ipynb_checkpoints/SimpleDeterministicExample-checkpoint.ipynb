{
 "cells": [
  {
   "cell_type": "markdown",
   "metadata": {},
   "source": [
    "# A simple deterministic example #\n",
    "\n",
    "This Notebook provides an easy way to run a simple deterministic simulation (i.e. all probabilities are 1 or 0, so events either always or never happen). \n",
    "\n"
   ]
  },
  {
   "cell_type": "markdown",
   "metadata": {},
   "source": [
    "We start by loading the households package:"
   ]
  },
  {
   "cell_type": "code",
   "execution_count": 1,
   "metadata": {},
   "outputs": [
    {
     "name": "stdout",
     "output_type": "stream",
     "text": [
      "Importing the households package\n",
      "Importing identity\n",
      "importing kinship\n",
      "importing residency\n",
      "importing behavior\n",
      "loading narrative\n",
      "Importing main.py\n",
      "importing inheritance\n",
      "importing marriage\n",
      "importing mobility\n"
     ]
    }
   ],
   "source": [
    "import os\n",
    "os.chdir('..')\n",
    "from households import *\n",
    "import pandas\n",
    "import matplotlib.pyplot as plt\n",
    "import seaborn as sns\n",
    "#This is not needed, but is here as an example\n",
    "#import sys\n",
    "#sys.path.append('C:\\\\github\\\\Dummy-Classes')\n",
    "#import practice_class_functions"
   ]
  },
  {
   "cell_type": "markdown",
   "metadata": {},
   "source": [
    "(You'll only ever need to run this next line if you've made changes to the code and are needing to reload the package.)"
   ]
  },
  {
   "cell_type": "code",
   "execution_count": 2,
   "metadata": {},
   "outputs": [],
   "source": [
    "from households import *"
   ]
  },
  {
   "cell_type": "markdown",
   "metadata": {},
   "source": [
    "## Scheduling life events ##\n",
    "In this world everyone gets married at age 20, has up to four children, and dies at age 60. To accomplish this, we define AgeTables for eligibility (starting at an age of majority such that everyone achieves eligibility at 19 to be married at age 20 if sufficient partners exist), fertility (four years max of potential fertility when married), and mortality (univerally 1 starting at age 60, ensuring everyone dies then), with remarriage defined by an all-zero table."
   ]
  },
  {
   "cell_type": "code",
   "execution_count": 3,
   "metadata": {},
   "outputs": [],
   "source": [
    "age_of_majority = 19\n",
    "eligibility = AgeTable(ages = [0,age_of_majority,100], sex1 = female, rates1 = [0,1], sex2 = male, rates2 = [0,1])\n",
    "fertility = AgeTable(ages = [0,age_of_majority,age_of_majority+5,100], sex1 = female, rates1 = [0,1,0], sex2 = male, rates2 = [0,0,0])\n",
    "mortality = AgeTable(ages=[0,60,100],sex1 = male, rates1 = [0,1], sex2 = female, rates2 = [0,1])\n",
    "remarriage = AgeTable.NullAgeTable()\n"
   ]
  },
  {
   "cell_type": "markdown",
   "metadata": {},
   "source": [
    "All of these AgeTables need to be inserted into the appropriate syntax: in the case of mortality and fertility rates, these are still given directly to the starting community of `Persons`, while eligibility and remarriage are actually part of a `MarriageRule` that gets passed from the community to individual people.\n",
    "\n",
    "The three rules that we have to define are, at present, a `MarriageRule`, a `MobilityRule`, and an `InheritanceRule`. We treat these each in turn.\n",
    "\n",
    "\n",
    "### `MarriageRule`: Pick a random, single, eligible spouse\n",
    "\n",
    "The `MarriageRule` we will implement will use the `eligibility` and `remarriage` schedules above and then define what is involved in finding and marrying a spouse via the defined functions in `behavior.marriage`. In particular, we need to define:\n",
    "\n",
    "    1. who is considered a potential spouse,\n",
    "    2. how we will pick among the selection of spouses, and \n",
    "    3. where newlyweds live\n",
    "\n",
    "We define an eligible partner as any single, eligible (`unmarried`), non-sibling in the same community using `get_eligible_not_sibling_same_community`. We pick a spouse at random from the selection (`pick_spouse_random`) and then attempt to move the new couple in with the husband's family if there is space; otherwise they move to a new house (`locality_patrilocality`).\n",
    "\n",
    "### `MobilityRule`: Adult children leave a household with their nuclear family if it gets overcrowded\n",
    "\n",
    "The `MobilityRule` we will create will check whether an adult is living in an overcrowded house they don't own, and then move them with their spouse and children to a new house. There exists a default function to check whether a household is overcrowded (`check_household_overcrowded`), but we need to create a new function that combines this with the age check and the ownership check. We will call this function `check_household_nonowner_adult_man_overcrowded` to keep the nomenclature consistent. We then use the existing `who_leaves_house_family` to identify their family and `destination_random_house_same_village` to find a new house to move them to.\n",
    "\n",
    "### `InheritanceRule`: Let sons and then brothers' sons inherit houses, but only own one\n",
    "\n",
    "The `InheritanceRule` will be to check the male line of a family, starting with male children and followed by brothers' sons. We implement this by using the `find_heirs_multiple_constructor`, which combines multiple `find_heirs` functions into a single ordered list. We call this new function `find_heirs_sons_then_brothers_sons` and use it to defined the heirs of a person with a house to be inherited (`has_property_houses`). We then limit all heirs to lack property before inheritance (`limit_heirs_not_owners`), and say that the first heir in the list (who is therefore likely the oldest son or oldest brother's older son without a house) will be the one to inherit (`distribute_property_to_first_heir_and_move_household`). If inheritance fails, the house defaults to no owner, and once all family members leave or die it will default to no ownership (`failed_inheritance_no_owner`). \n",
    "\n",
    "### `BirthRule`: Use the fertility schedule without infanticide or maternal death\n",
    "\n",
    "Using the AgeTable for fertiltiy above, the `BirthRule` just passes this as the fertility for a married woman, with fertility for an unmarried woman defined as a NullAgeTable (always 0). The sex ratio is 50-50, and neither infanticide nor maternal death during childbirth are chosen as options."
   ]
  },
  {
   "cell_type": "code",
   "execution_count": 22,
   "metadata": {},
   "outputs": [],
   "source": [
    "#The MarriageRule\n",
    "marriagerule = behavior.marriage.MarriageRule(eligibility_agetable = eligibility, #defined above\n",
    "                                              get_eligible = behavior.marriage.get_eligible_not_sibling_same_community,\n",
    "                                              #find all single individuals in the village who aren't siblings\n",
    "                                              pick_spouse = behavior.marriage.pick_spouse_random, #pick a random spouse\n",
    "                                              locality = behavior.marriage.locality_patrilocality, #patrilocality\n",
    "                                              remarriage_agetable = remarriage #defined above\n",
    "                                             )\n",
    "\n",
    "#The MobilityRule\n",
    "def check_household_nonowner_adult_man_overcrowded(person):\n",
    "    \"\"\"Check that the household is overcrowded and that this person is not the owner and an adult.\"\"\"\n",
    "    overcrowded = behavior.mobility.check_household_overcrowded(person) #check overcrowding but also assert\n",
    "    ## that there is indeed a house to check\n",
    "    if overcrowded:\n",
    "        if person.age >= age_of_majority and person.has_house.owner != person and person.sex == identity.male:\n",
    "            #If above or at the age of majority and the person is a man who is not the owner of the house they live in\n",
    "            return True\n",
    "    return False\n",
    "\n",
    "mobilityrule = behavior.mobility.MobilityRule(check_household = check_household_nonowner_adult_man_overcrowded,\n",
    "                                                   who_leaves_house = behavior.mobility.who_leaves_house_family,\n",
    "                                                   destination = behavior.mobility.destination_random_house_same_village)\n",
    "\n",
    "#The InheritanceRule\n",
    "#Our custom function to check sons then brothers' sons;\n",
    "## note the use of lambda to make find_heirs_siblings_children into a single parameter function in order to define\n",
    "## the sex as male.\n",
    "find_heirs_sons_then_brothers_sons = behavior.inheritance.find_heirs_multiple_constructor(behavior.inheritance.find_heirs_sons_oldest_to_youngest,\n",
    "                                                     lambda p: behavior.inheritance.find_heirs_siblings_children_oldest_to_youngest(p,sex = identity.male))\n",
    "\n",
    "\n",
    "inheritancerule = behavior.inheritance.InheritanceRuleComplex(has_property = behavior.inheritance.has_property_houses,\n",
    "                                                                    find_heirs = find_heirs_sons_then_brothers_sons,\n",
    "                                                                    limit_heirs = behavior.inheritance.limit_heirs_not_owners,\n",
    "                                                                    distribute_property = behavior.inheritance.distribute_property_to_first_heir_and_move_household,\n",
    "                                                                    failure = behavior.inheritance.failed_inheritance_no_owner)\n",
    "\n",
    "birthrule = behavior.conception.BirthRule(marriedbirth = fertility,\n",
    "                                         unmarriedbirth = AgeTable.NullAgeTable(),\n",
    "                                         femalesexratio = .5,\n",
    "                                         maternaldeath = behavior.conception.maternal_death_zero,\n",
    "                                         infanticide = behavior.conception.infanticide_none)"
   ]
  },
  {
   "cell_type": "markdown",
   "metadata": {},
   "source": [
    "With all of these functions defined, we can now create the `World` of the simulation and our sole `Community`, Sweetwater."
   ]
  },
  {
   "cell_type": "code",
   "execution_count": 23,
   "metadata": {},
   "outputs": [],
   "source": [
    "start_pop = 100 #just a few people to start\n",
    "start_area = 200 #lots of room for growth\n",
    "start_age = age_of_majority - 1 #so that everyone makes the transition to marriage eligibility on time\n",
    "\n",
    "rd.seed(1237) #Used here to standardize the example code across runs for any random parts like name generation.\n",
    "terra = World()\n",
    "sweetwater = Community(world = terra,\n",
    "                       name = 'Sweetwater',\n",
    "                       pop = start_pop,\n",
    "                       area = start_area,\n",
    "                       startage = start_age,\n",
    "                       mortab = mortality,\n",
    "                       birthtab = fertility,\n",
    "                       marriagerule = marriagerule,\n",
    "                       inheritancerule = inheritancerule,\n",
    "                       mobilityrule = mobilityrule,\n",
    "                       birthrule = birthrule)\n",
    "\n",
    "\n",
    "    \n",
    "\n",
    "\n",
    "rd.seed(1237) #important to standardize after setup, just in case"
   ]
  },
  {
   "cell_type": "markdown",
   "metadata": {},
   "source": [
    "And there we have it! The hard work is setting up the functions; making the world and defining communities is easy. We can now run the simulation."
   ]
  },
  {
   "cell_type": "code",
   "execution_count": 24,
   "metadata": {},
   "outputs": [
    {
     "name": "stdout",
     "output_type": "stream",
     "text": [
      "43\n"
     ]
    }
   ],
   "source": [
    "while terra.year < 43: #run for 42 years\n",
    "    terra.progress()\n",
    "    \n",
    "print(terra.year)"
   ]
  },
  {
   "cell_type": "markdown",
   "metadata": {},
   "source": [
    "We can now generate some figures to see what's been going on. For instance, let's see what birthyears are recorded in Diaries of individuals."
   ]
  },
  {
   "cell_type": "code",
   "execution_count": 25,
   "metadata": {},
   "outputs": [
    {
     "name": "stdout",
     "output_type": "stream",
     "text": [
      "\n"
     ]
    },
    {
     "data": {
      "image/png": "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\n",
      "text/plain": [
       "<Figure size 864x288 with 3 Axes>"
      ]
     },
     "metadata": {
      "needs_background": "light"
     },
     "output_type": "display_data"
    }
   ],
   "source": [
    "f, (ax1, ax2, ax3) = plt.subplots(1,3, figsize = (12,4))\n",
    "#sns.set_style(\"whitegrid\")\n",
    "sns.distplot([min(d.get_events().keys()) for d in terra.library['Person']], kde = False, bins = range(45), ax = ax1)\n",
    "ax1.set_title(\"Birth years of people\")\n",
    "#plt.subtitle(\"Third generation is normally distributed.\")\n",
    "ax1.set_xlabel(\"Year\")\n",
    "ax1.set_ylabel(\"# births per year\")\n",
    "\n",
    "sns.distplot([l.year for i in range(len(terra.library['Person'])) for x in terra.library['Person'][i].get_events().items() for l in x[1] if isinstance(l,narrative.MarriageEvent)]\n",
    "             , kde = False, bins = range(45), ax = ax2)\n",
    "ax2.set_title(\"Marriages\")\n",
    "#ax2.subtitle(\"Third generation is normally distributed.\")\n",
    "ax2.set_xlabel(\"Year\")\n",
    "ax2.set_ylabel(\"# marriages per year\")\n",
    "\n",
    "sns.distplot([l.year for i in range(len(terra.library['Person'])) for x in terra.library['Person'][i].get_events().items() for l in x[1] if isinstance(l,narrative.DeathEvent)],\n",
    "             kde = False, bins = range(45), ax = ax3)\n",
    "ax3.set_title(\"Deaths\")\n",
    "#ax2.subtitle(\"Third generation is normally distributed.\")\n",
    "ax3.set_xlabel(\"Year\")\n",
    "ax3.set_ylabel(\"# deaths per year\")\n",
    "\n",
    "\n",
    "print('')\n",
    "#plt.hist([min(d.get_events().keys()) for d in terra.library['Person']], bins = range(45))"
   ]
  },
  {
   "cell_type": "markdown",
   "metadata": {},
   "source": [
    "We can also look at the different ways people are living in houses, for example how many nuclear families live in each house."
   ]
  },
  {
   "cell_type": "code",
   "execution_count": 27,
   "metadata": {},
   "outputs": [
    {
     "name": "stdout",
     "output_type": "stream",
     "text": [
      "\n"
     ]
    },
    {
     "data": {
      "image/png": "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\n",
      "text/plain": [
       "<Figure size 432x288 with 1 Axes>"
      ]
     },
     "metadata": {
      "needs_background": "light"
     },
     "output_type": "display_data"
    }
   ],
   "source": [
    "sns.countplot([residency.classify(h) for h in terra.houses if h.people != []])\n",
    "plt.title('Lastlett Typology of Households for all Occupied Houses')\n",
    "plt.xlabel('Household type (number of nuclear families)')\n",
    "print('')"
   ]
  },
  {
   "cell_type": "markdown",
   "metadata": {},
   "source": [
    "In addition to viewing the entire world, we can also use the tools in narrative to explore single individuals and their households."
   ]
  },
  {
   "cell_type": "code",
   "execution_count": 28,
   "metadata": {
    "scrolled": true
   },
   "outputs": [
    {
     "name": "stdout",
     "output_type": "stream",
     "text": [
      "The house at 9 Main Street contains a multiple household with 7 people residing owned by Logan:\n",
      "Logan is a living man, 38 years old, married with 3 children\n",
      "Ashley is a living woman, 40 years old, married with 3 children\n",
      "Robert is a living man, 19 years old, married with one child\n",
      "Elsie is a living woman, 18 years old, ineligible\n",
      "Bernard is a living man, 17 years old, ineligible\n",
      "Jasmyn is a living woman, 20 years old, married with one child\n",
      "Robert is a living man, 0 years old, ineligible\n",
      " \n"
     ]
    }
   ],
   "source": [
    "h = rd.choice([x for x in sweetwater.houses if len(x.people) >= 2])#pick a house with at least two people in it to make it interesting\n",
    "print('The house at ' + h.address + ' contains ' + narrative.census(h)+':')\n",
    "for x in h.people:\n",
    "    print(narrative.biography(x)) \n",
    "print(' ')\n",
    "\n",
    "\n"
   ]
  },
  {
   "cell_type": "code",
<<<<<<< Updated upstream
   "execution_count": 29,
=======
   "execution_count": 10,
>>>>>>> Stashed changes
   "metadata": {},
   "outputs": [
    {
     "name": "stdout",
     "output_type": "stream",
     "text": [
<<<<<<< Updated upstream
      "Logan is a living man, 38 years old, married with 3 children\n"
=======
      "Teddy is a living man, 38 years old, married with 2 children\n"
>>>>>>> Stashed changes
     ]
    }
   ],
   "source": [
    "#Here is some space to explore the currently selected household, if you want.\n",
    "\n",
    "print(narrative.biography(h.people[0]))"
   ]
  },
  {
   "cell_type": "markdown",
   "metadata": {},
   "source": [
    "This provides the tools you need to implement and see some results of a simulation. \n",
    "\n",
    "The sections below provide some debugging tools."
   ]
  },
  {
   "cell_type": "code",
   "execution_count": 11,
   "metadata": {},
   "outputs": [
    {
     "ename": "IndexError",
     "evalue": "list index out of range",
     "output_type": "error",
     "traceback": [
      "\u001b[1;31m---------------------------------------------------------------------------\u001b[0m",
      "\u001b[1;31mIndexError\u001b[0m                                Traceback (most recent call last)",
      "\u001b[1;32m<ipython-input-11-366a59d1d4ea>\u001b[0m in \u001b[0;36m<module>\u001b[1;34m\u001b[0m\n\u001b[0;32m      1\u001b[0m \u001b[1;31m#Look up a single person based on memory\u001b[0m\u001b[1;33m\u001b[0m\u001b[1;33m\u001b[0m\u001b[1;33m\u001b[0m\u001b[0m\n\u001b[1;32m----> 2\u001b[1;33m \u001b[0mp\u001b[0m \u001b[1;33m=\u001b[0m \u001b[1;33m[\u001b[0m\u001b[0mp\u001b[0m \u001b[1;32mfor\u001b[0m \u001b[0mp\u001b[0m \u001b[1;32min\u001b[0m \u001b[0msweetwater\u001b[0m\u001b[1;33m.\u001b[0m\u001b[0mpeople\u001b[0m \u001b[1;32mif\u001b[0m \u001b[0mstr\u001b[0m\u001b[1;33m(\u001b[0m\u001b[0mp\u001b[0m\u001b[1;33m)\u001b[0m \u001b[1;33m==\u001b[0m \u001b[1;34m'<households.main.Person object at 0x00000244063379C8>'\u001b[0m\u001b[1;33m]\u001b[0m\u001b[1;33m[\u001b[0m\u001b[1;36m0\u001b[0m\u001b[1;33m]\u001b[0m\u001b[1;33m\u001b[0m\u001b[1;33m\u001b[0m\u001b[0m\n\u001b[0m\u001b[0;32m      3\u001b[0m \u001b[1;31m#behavior.mobility.check_household_overcrowded(p)\u001b[0m\u001b[1;33m\u001b[0m\u001b[1;33m\u001b[0m\u001b[1;33m\u001b[0m\u001b[0m\n\u001b[0;32m      4\u001b[0m \u001b[1;31m#behavior.mobility.destination_random_house_same_village(None, [p])\u001b[0m\u001b[1;33m\u001b[0m\u001b[1;33m\u001b[0m\u001b[1;33m\u001b[0m\u001b[0m\n\u001b[0;32m      5\u001b[0m \u001b[0mnarrative\u001b[0m\u001b[1;33m.\u001b[0m\u001b[0mbiography\u001b[0m\u001b[1;33m(\u001b[0m\u001b[0mp\u001b[0m\u001b[1;33m)\u001b[0m\u001b[1;33m\u001b[0m\u001b[1;33m\u001b[0m\u001b[0m\n",
      "\u001b[1;31mIndexError\u001b[0m: list index out of range"
     ]
    }
   ],
   "source": [
    "#Look up a single person based on memory\n",
    "p = [p for p in sweetwater.people if str(p) == '<households.main.Person object at 0x00000244063379C8>'][0]\n",
    "#behavior.mobility.check_household_overcrowded(p)\n",
    "#behavior.mobility.destination_random_house_same_village(None, [p])\n",
    "narrative.biography(p)\n",
    "narrative.census(p.has_house)\n",
    "for q in kinship.get_parents(p):\n",
    "    print(narrative.biography(q))\n",
    "    if q.has_house != None: print(narrative.census(q.has_house))"
   ]
  },
  {
   "cell_type": "code",
   "execution_count": null,
   "metadata": {},
   "outputs": [],
   "source": []
  },
  {
   "cell_type": "code",
   "execution_count": null,
   "metadata": {},
   "outputs": [],
   "source": []
  }
 ],
 "metadata": {
  "kernelspec": {
   "display_name": "Python 3",
   "language": "python",
   "name": "python3"
  },
  "language_info": {
   "codemirror_mode": {
    "name": "ipython",
    "version": 3
   },
   "file_extension": ".py",
   "mimetype": "text/x-python",
   "name": "python",
   "nbconvert_exporter": "python",
   "pygments_lexer": "ipython3",
   "version": "3.7.7"
  }
 },
 "nbformat": 4,
 "nbformat_minor": 4
}
